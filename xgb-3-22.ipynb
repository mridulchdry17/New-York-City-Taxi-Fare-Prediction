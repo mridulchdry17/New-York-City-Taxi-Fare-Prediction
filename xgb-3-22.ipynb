{
 "cells": [
  {
   "cell_type": "markdown",
   "id": "61e344c3",
   "metadata": {
    "id": "rZI3HFSxYIs0",
    "papermill": {
     "duration": 0.052329,
     "end_time": "2024-08-24T18:23:19.833679",
     "exception": false,
     "start_time": "2024-08-24T18:23:19.781350",
     "status": "completed"
    },
    "tags": []
   },
   "source": [
    "# New York City Taxi Fare Prediction\n",
    "\n",
    "We'll train a machine learning model to predict the fare for a taxi ride in New York city given information like pickup date & time, pickup location, drop location and no. of passengers.\n",
    "\n",
    "Dataset Link: https://www.kaggle.com/c/new-york-city-taxi-fare-prediction"
   ]
  },
  {
   "cell_type": "markdown",
   "id": "f9a06260",
   "metadata": {
    "id": "aDko-EfpZUnU",
    "papermill": {
     "duration": 0.050511,
     "end_time": "2024-08-24T18:23:19.935781",
     "exception": false,
     "start_time": "2024-08-24T18:23:19.885270",
     "status": "completed"
    },
    "tags": []
   },
   "source": [
    "### Install Required Libraries"
   ]
  },
  {
   "cell_type": "code",
   "execution_count": 1,
   "id": "66db6b93",
   "metadata": {
    "execution": {
     "iopub.execute_input": "2024-08-24T18:23:20.041871Z",
     "iopub.status.busy": "2024-08-24T18:23:20.041194Z",
     "iopub.status.idle": "2024-08-24T18:23:37.034487Z",
     "shell.execute_reply": "2024-08-24T18:23:37.032679Z"
    },
    "executionInfo": {
     "elapsed": 14793,
     "status": "ok",
     "timestamp": 1723795550425,
     "user": {
      "displayName": "Mridul Chaudhary",
      "userId": "01592793057690041972"
     },
     "user_tz": -330
    },
    "id": "BNfIygEKZUp0",
    "papermill": {
     "duration": 17.050221,
     "end_time": "2024-08-24T18:23:37.037319",
     "exception": false,
     "start_time": "2024-08-24T18:23:19.987098",
     "status": "completed"
    },
    "tags": []
   },
   "outputs": [
    {
     "name": "stdout",
     "output_type": "stream",
     "text": [
      "Note: you may need to restart the kernel to use updated packages.\n"
     ]
    }
   ],
   "source": [
    "pip install numpy pandas opendatasets scikit-learn xgboost --quiet"
   ]
  },
  {
   "cell_type": "markdown",
   "id": "c47f2bc5",
   "metadata": {
    "id": "0nCJpGCgZUsy",
    "papermill": {
     "duration": 0.050646,
     "end_time": "2024-08-24T18:23:37.138602",
     "exception": false,
     "start_time": "2024-08-24T18:23:37.087956",
     "status": "completed"
    },
    "tags": []
   },
   "source": [
    "### Download Data from Kaggle\n",
    "\n",
    "We'll use the opendatasets library: https://github.com/JovianML/opendatasets"
   ]
  },
  {
   "cell_type": "code",
   "execution_count": 2,
   "id": "bb618068",
   "metadata": {
    "execution": {
     "iopub.execute_input": "2024-08-24T18:23:37.243140Z",
     "iopub.status.busy": "2024-08-24T18:23:37.242726Z",
     "iopub.status.idle": "2024-08-24T18:23:37.288091Z",
     "shell.execute_reply": "2024-08-24T18:23:37.286900Z"
    },
    "executionInfo": {
     "elapsed": 9,
     "status": "ok",
     "timestamp": 1723795550425,
     "user": {
      "displayName": "Mridul Chaudhary",
      "userId": "01592793057690041972"
     },
     "user_tz": -330
    },
    "id": "OISOMmyuZUvd",
    "papermill": {
     "duration": 0.101554,
     "end_time": "2024-08-24T18:23:37.290885",
     "exception": false,
     "start_time": "2024-08-24T18:23:37.189331",
     "status": "completed"
    },
    "tags": []
   },
   "outputs": [],
   "source": [
    "import opendatasets as od"
   ]
  },
  {
   "cell_type": "code",
   "execution_count": 3,
   "id": "dd89b598",
   "metadata": {
    "execution": {
     "iopub.execute_input": "2024-08-24T18:23:37.456257Z",
     "iopub.status.busy": "2024-08-24T18:23:37.455825Z",
     "iopub.status.idle": "2024-08-24T18:23:37.460857Z",
     "shell.execute_reply": "2024-08-24T18:23:37.459757Z"
    },
    "executionInfo": {
     "elapsed": 9,
     "status": "ok",
     "timestamp": 1723795550426,
     "user": {
      "displayName": "Mridul Chaudhary",
      "userId": "01592793057690041972"
     },
     "user_tz": -330
    },
    "id": "r3kyxCUoZU0j",
    "papermill": {
     "duration": 0.059881,
     "end_time": "2024-08-24T18:23:37.463575",
     "exception": false,
     "start_time": "2024-08-24T18:23:37.403694",
     "status": "completed"
    },
    "tags": []
   },
   "outputs": [],
   "source": [
    "dataset_url = \"https://www.kaggle.com/c/new-york-city-taxi-fare-prediction\""
   ]
  },
  {
   "cell_type": "code",
   "execution_count": 4,
   "id": "11edb8a0",
   "metadata": {
    "execution": {
     "iopub.execute_input": "2024-08-24T18:23:37.568554Z",
     "iopub.status.busy": "2024-08-24T18:23:37.568088Z",
     "iopub.status.idle": "2024-08-24T18:23:38.322800Z",
     "shell.execute_reply": "2024-08-24T18:23:38.321090Z"
    },
    "executionInfo": {
     "elapsed": 9,
     "status": "ok",
     "timestamp": 1723795550426,
     "user": {
      "displayName": "Mridul Chaudhary",
      "userId": "01592793057690041972"
     },
     "user_tz": -330
    },
    "id": "WDeurf6rZUyA",
    "outputId": "33185263-ca36-4729-ace6-f252d34692fa",
    "papermill": {
     "duration": 0.809499,
     "end_time": "2024-08-24T18:23:38.325190",
     "exception": true,
     "start_time": "2024-08-24T18:23:37.515691",
     "status": "failed"
    },
    "tags": []
   },
   "outputs": [
    {
     "name": "stdout",
     "output_type": "stream",
     "text": [
      "Please provide your Kaggle credentials to download this dataset. Learn more: http://bit.ly/kaggle-creds\n",
      "Your Kaggle username:"
     ]
    },
    {
     "ename": "StdinNotImplementedError",
     "evalue": "raw_input was called, but this frontend does not support input requests.",
     "output_type": "error",
     "traceback": [
      "\u001b[0;31m---------------------------------------------------------------------------\u001b[0m",
      "\u001b[0;31mStdinNotImplementedError\u001b[0m                  Traceback (most recent call last)",
      "Cell \u001b[0;32mIn[4], line 1\u001b[0m\n\u001b[0;32m----> 1\u001b[0m \u001b[43mod\u001b[49m\u001b[38;5;241;43m.\u001b[39;49m\u001b[43mdownload\u001b[49m\u001b[43m(\u001b[49m\u001b[43mdataset_url\u001b[49m\u001b[43m)\u001b[49m\n",
      "File \u001b[0;32m/opt/conda/lib/python3.10/site-packages/opendatasets/__init__.py:13\u001b[0m, in \u001b[0;36mdownload\u001b[0;34m(dataset_id_or_url, data_dir, force, dry_run, **kwargs)\u001b[0m\n\u001b[1;32m     10\u001b[0m \u001b[38;5;28;01mdef\u001b[39;00m \u001b[38;5;21mdownload\u001b[39m(dataset_id_or_url, data_dir\u001b[38;5;241m=\u001b[39m\u001b[38;5;124m'\u001b[39m\u001b[38;5;124m.\u001b[39m\u001b[38;5;124m'\u001b[39m, force\u001b[38;5;241m=\u001b[39m\u001b[38;5;28;01mFalse\u001b[39;00m, dry_run\u001b[38;5;241m=\u001b[39m\u001b[38;5;28;01mFalse\u001b[39;00m, \u001b[38;5;241m*\u001b[39m\u001b[38;5;241m*\u001b[39mkwargs):\n\u001b[1;32m     11\u001b[0m     \u001b[38;5;66;03m# Check for a Kaggle dataset URL\u001b[39;00m\n\u001b[1;32m     12\u001b[0m     \u001b[38;5;28;01mif\u001b[39;00m is_kaggle_url(dataset_id_or_url):\n\u001b[0;32m---> 13\u001b[0m         \u001b[38;5;28;01mreturn\u001b[39;00m \u001b[43mdownload_kaggle_dataset\u001b[49m\u001b[43m(\u001b[49m\u001b[43mdataset_id_or_url\u001b[49m\u001b[43m,\u001b[49m\u001b[43m \u001b[49m\u001b[43mdata_dir\u001b[49m\u001b[38;5;241;43m=\u001b[39;49m\u001b[43mdata_dir\u001b[49m\u001b[43m,\u001b[49m\u001b[43m \u001b[49m\u001b[43mforce\u001b[49m\u001b[38;5;241;43m=\u001b[39;49m\u001b[43mforce\u001b[49m\u001b[43m,\u001b[49m\u001b[43m \u001b[49m\u001b[43mdry_run\u001b[49m\u001b[38;5;241;43m=\u001b[39;49m\u001b[43mdry_run\u001b[49m\u001b[43m)\u001b[49m\n\u001b[1;32m     15\u001b[0m     \u001b[38;5;66;03m# Check for Google Drive URL\u001b[39;00m\n\u001b[1;32m     16\u001b[0m     \u001b[38;5;28;01mif\u001b[39;00m is_google_drive_url(dataset_id_or_url):\n",
      "File \u001b[0;32m/opt/conda/lib/python3.10/site-packages/opendatasets/utils/kaggle_api.py:46\u001b[0m, in \u001b[0;36mdownload_kaggle_dataset\u001b[0;34m(dataset_url, data_dir, force, dry_run)\u001b[0m\n\u001b[1;32m     44\u001b[0m \u001b[38;5;28;01mif\u001b[39;00m \u001b[38;5;129;01mnot\u001b[39;00m read_kaggle_creds():\n\u001b[1;32m     45\u001b[0m     \u001b[38;5;28mprint\u001b[39m(\u001b[38;5;124m\"\u001b[39m\u001b[38;5;124mPlease provide your Kaggle credentials to download this dataset. Learn more: http://bit.ly/kaggle-creds\u001b[39m\u001b[38;5;124m\"\u001b[39m)\n\u001b[0;32m---> 46\u001b[0m     os\u001b[38;5;241m.\u001b[39menviron[\u001b[38;5;124m'\u001b[39m\u001b[38;5;124mKAGGLE_USERNAME\u001b[39m\u001b[38;5;124m'\u001b[39m] \u001b[38;5;241m=\u001b[39m \u001b[43mclick\u001b[49m\u001b[38;5;241;43m.\u001b[39;49m\u001b[43mprompt\u001b[49m\u001b[43m(\u001b[49m\u001b[38;5;124;43m\"\u001b[39;49m\u001b[38;5;124;43mYour Kaggle username\u001b[39;49m\u001b[38;5;124;43m\"\u001b[39;49m\u001b[43m)\u001b[49m\n\u001b[1;32m     47\u001b[0m     os\u001b[38;5;241m.\u001b[39menviron[\u001b[38;5;124m'\u001b[39m\u001b[38;5;124mKAGGLE_KEY\u001b[39m\u001b[38;5;124m'\u001b[39m] \u001b[38;5;241m=\u001b[39m _get_kaggle_key()\n\u001b[1;32m     49\u001b[0m \u001b[38;5;28;01mif\u001b[39;00m \u001b[38;5;129;01mnot\u001b[39;00m dry_run:\n",
      "File \u001b[0;32m/opt/conda/lib/python3.10/site-packages/click/termui.py:164\u001b[0m, in \u001b[0;36mprompt\u001b[0;34m(text, default, hide_input, confirmation_prompt, type, value_proc, prompt_suffix, show_default, err, show_choices)\u001b[0m\n\u001b[1;32m    162\u001b[0m \u001b[38;5;28;01mwhile\u001b[39;00m \u001b[38;5;28;01mTrue\u001b[39;00m:\n\u001b[1;32m    163\u001b[0m     \u001b[38;5;28;01mwhile\u001b[39;00m \u001b[38;5;28;01mTrue\u001b[39;00m:\n\u001b[0;32m--> 164\u001b[0m         value \u001b[38;5;241m=\u001b[39m \u001b[43mprompt_func\u001b[49m\u001b[43m(\u001b[49m\u001b[43mprompt\u001b[49m\u001b[43m)\u001b[49m\n\u001b[1;32m    165\u001b[0m         \u001b[38;5;28;01mif\u001b[39;00m value:\n\u001b[1;32m    166\u001b[0m             \u001b[38;5;28;01mbreak\u001b[39;00m\n",
      "File \u001b[0;32m/opt/conda/lib/python3.10/site-packages/click/termui.py:140\u001b[0m, in \u001b[0;36mprompt.<locals>.prompt_func\u001b[0;34m(text)\u001b[0m\n\u001b[1;32m    137\u001b[0m     echo(text\u001b[38;5;241m.\u001b[39mrstrip(\u001b[38;5;124m\"\u001b[39m\u001b[38;5;124m \u001b[39m\u001b[38;5;124m\"\u001b[39m), nl\u001b[38;5;241m=\u001b[39m\u001b[38;5;28;01mFalse\u001b[39;00m, err\u001b[38;5;241m=\u001b[39merr)\n\u001b[1;32m    138\u001b[0m     \u001b[38;5;66;03m# Echo a space to stdout to work around an issue where\u001b[39;00m\n\u001b[1;32m    139\u001b[0m     \u001b[38;5;66;03m# readline causes backspace to clear the whole line.\u001b[39;00m\n\u001b[0;32m--> 140\u001b[0m     \u001b[38;5;28;01mreturn\u001b[39;00m \u001b[43mf\u001b[49m\u001b[43m(\u001b[49m\u001b[38;5;124;43m\"\u001b[39;49m\u001b[38;5;124;43m \u001b[39;49m\u001b[38;5;124;43m\"\u001b[39;49m\u001b[43m)\u001b[49m\n\u001b[1;32m    141\u001b[0m \u001b[38;5;28;01mexcept\u001b[39;00m (\u001b[38;5;167;01mKeyboardInterrupt\u001b[39;00m, \u001b[38;5;167;01mEOFError\u001b[39;00m):\n\u001b[1;32m    142\u001b[0m     \u001b[38;5;66;03m# getpass doesn't print a newline if the user aborts input with ^C.\u001b[39;00m\n\u001b[1;32m    143\u001b[0m     \u001b[38;5;66;03m# Allegedly this behavior is inherited from getpass(3).\u001b[39;00m\n\u001b[1;32m    144\u001b[0m     \u001b[38;5;66;03m# A doc bug has been filed at https://bugs.python.org/issue24711\u001b[39;00m\n\u001b[1;32m    145\u001b[0m     \u001b[38;5;28;01mif\u001b[39;00m hide_input:\n",
      "File \u001b[0;32m/opt/conda/lib/python3.10/site-packages/ipykernel/kernelbase.py:1261\u001b[0m, in \u001b[0;36mKernel.raw_input\u001b[0;34m(self, prompt)\u001b[0m\n\u001b[1;32m   1259\u001b[0m \u001b[38;5;28;01mif\u001b[39;00m \u001b[38;5;129;01mnot\u001b[39;00m \u001b[38;5;28mself\u001b[39m\u001b[38;5;241m.\u001b[39m_allow_stdin:\n\u001b[1;32m   1260\u001b[0m     msg \u001b[38;5;241m=\u001b[39m \u001b[38;5;124m\"\u001b[39m\u001b[38;5;124mraw_input was called, but this frontend does not support input requests.\u001b[39m\u001b[38;5;124m\"\u001b[39m\n\u001b[0;32m-> 1261\u001b[0m     \u001b[38;5;28;01mraise\u001b[39;00m StdinNotImplementedError(msg)\n\u001b[1;32m   1262\u001b[0m \u001b[38;5;28;01mreturn\u001b[39;00m \u001b[38;5;28mself\u001b[39m\u001b[38;5;241m.\u001b[39m_input_request(\n\u001b[1;32m   1263\u001b[0m     \u001b[38;5;28mstr\u001b[39m(prompt),\n\u001b[1;32m   1264\u001b[0m     \u001b[38;5;28mself\u001b[39m\u001b[38;5;241m.\u001b[39m_parent_ident[\u001b[38;5;124m\"\u001b[39m\u001b[38;5;124mshell\u001b[39m\u001b[38;5;124m\"\u001b[39m],\n\u001b[1;32m   1265\u001b[0m     \u001b[38;5;28mself\u001b[39m\u001b[38;5;241m.\u001b[39mget_parent(\u001b[38;5;124m\"\u001b[39m\u001b[38;5;124mshell\u001b[39m\u001b[38;5;124m\"\u001b[39m),\n\u001b[1;32m   1266\u001b[0m     password\u001b[38;5;241m=\u001b[39m\u001b[38;5;28;01mFalse\u001b[39;00m,\n\u001b[1;32m   1267\u001b[0m )\n",
      "\u001b[0;31mStdinNotImplementedError\u001b[0m: raw_input was called, but this frontend does not support input requests."
     ]
    }
   ],
   "source": [
    "od.download(dataset_url)"
   ]
  },
  {
   "cell_type": "code",
   "execution_count": null,
   "id": "09d857bd",
   "metadata": {
    "executionInfo": {
     "elapsed": 8,
     "status": "ok",
     "timestamp": 1723795550426,
     "user": {
      "displayName": "Mridul Chaudhary",
      "userId": "01592793057690041972"
     },
     "user_tz": -330
    },
    "id": "trHKaztEbS8w",
    "papermill": {
     "duration": null,
     "end_time": null,
     "exception": null,
     "start_time": null,
     "status": "pending"
    },
    "tags": []
   },
   "outputs": [],
   "source": [
    "data_dir = 'new-york-city-taxi-fare-prediction'"
   ]
  },
  {
   "cell_type": "markdown",
   "id": "282b0cf3",
   "metadata": {
    "id": "XKJ-5_wuZU3E",
    "papermill": {
     "duration": null,
     "end_time": null,
     "exception": null,
     "start_time": null,
     "status": "pending"
    },
    "tags": []
   },
   "source": [
    "### View Dataset Files"
   ]
  },
  {
   "cell_type": "code",
   "execution_count": null,
   "id": "20c2b506",
   "metadata": {
    "executionInfo": {
     "elapsed": 7,
     "status": "ok",
     "timestamp": 1723795550426,
     "user": {
      "displayName": "Mridul Chaudhary",
      "userId": "01592793057690041972"
     },
     "user_tz": -330
    },
    "id": "6XqpdnNtZU6d",
    "outputId": "23f0782b-2eab-4492-e0ea-40fcdb966f7c",
    "papermill": {
     "duration": null,
     "end_time": null,
     "exception": null,
     "start_time": null,
     "status": "pending"
    },
    "tags": []
   },
   "outputs": [],
   "source": [
    "#List of File with sizes\n",
    "!ls -lh {data_dir}"
   ]
  },
  {
   "cell_type": "code",
   "execution_count": null,
   "id": "5eb06fbd",
   "metadata": {
    "executionInfo": {
     "elapsed": 772,
     "status": "ok",
     "timestamp": 1723795551194,
     "user": {
      "displayName": "Mridul Chaudhary",
      "userId": "01592793057690041972"
     },
     "user_tz": -330
    },
    "id": "EJMap1Rm81O0",
    "outputId": "c94795ab-9cc0-4aab-e7bf-77b747e9685b",
    "papermill": {
     "duration": null,
     "end_time": null,
     "exception": null,
     "start_time": null,
     "status": "pending"
    },
    "tags": []
   },
   "outputs": [],
   "source": [
    "#Training Data\n",
    "!head {data_dir}/train.csv"
   ]
  },
  {
   "cell_type": "code",
   "execution_count": null,
   "id": "9bb9883f",
   "metadata": {
    "executionInfo": {
     "elapsed": 6,
     "status": "ok",
     "timestamp": 1723795551194,
     "user": {
      "displayName": "Mridul Chaudhary",
      "userId": "01592793057690041972"
     },
     "user_tz": -330
    },
    "id": "kSM_RqpM89j8",
    "outputId": "d19fd16a-735f-4dc7-c363-154271cefb85",
    "papermill": {
     "duration": null,
     "end_time": null,
     "exception": null,
     "start_time": null,
     "status": "pending"
    },
    "tags": []
   },
   "outputs": [],
   "source": [
    "# Test set\n",
    "!head {data_dir}/test.csv"
   ]
  },
  {
   "cell_type": "code",
   "execution_count": null,
   "id": "9bc89f1a",
   "metadata": {
    "executionInfo": {
     "elapsed": 5,
     "status": "ok",
     "timestamp": 1723795551195,
     "user": {
      "displayName": "Mridul Chaudhary",
      "userId": "01592793057690041972"
     },
     "user_tz": -330
    },
    "id": "670jI9gE9CTV",
    "outputId": "e88954ce-e662-47f9-c4ca-91af09c54b9c",
    "papermill": {
     "duration": null,
     "end_time": null,
     "exception": null,
     "start_time": null,
     "status": "pending"
    },
    "tags": []
   },
   "outputs": [],
   "source": [
    "# Sample submission file\n",
    "!head {data_dir}/sample_submission.csv"
   ]
  },
  {
   "cell_type": "code",
   "execution_count": null,
   "id": "8c51fcb3",
   "metadata": {
    "executionInfo": {
     "elapsed": 3143,
     "status": "ok",
     "timestamp": 1723795554335,
     "user": {
      "displayName": "Mridul Chaudhary",
      "userId": "01592793057690041972"
     },
     "user_tz": -330
    },
    "id": "LFcWfDsX9JFc",
    "outputId": "de4e8ca5-27d9-4dd8-9245-a5dd38e5afeb",
    "papermill": {
     "duration": null,
     "end_time": null,
     "exception": null,
     "start_time": null,
     "status": "pending"
    },
    "tags": []
   },
   "outputs": [],
   "source": [
    "# No. of lines in training set\n",
    "!wc -l {data_dir}/train.csv"
   ]
  },
  {
   "cell_type": "code",
   "execution_count": null,
   "id": "3a92f5c0",
   "metadata": {
    "executionInfo": {
     "elapsed": 9,
     "status": "ok",
     "timestamp": 1723795554335,
     "user": {
      "displayName": "Mridul Chaudhary",
      "userId": "01592793057690041972"
     },
     "user_tz": -330
    },
    "id": "8WWnm2dl9Nbi",
    "outputId": "a030cd88-dc63-4db7-973d-60a5f1514055",
    "papermill": {
     "duration": null,
     "end_time": null,
     "exception": null,
     "start_time": null,
     "status": "pending"
    },
    "tags": []
   },
   "outputs": [],
   "source": [
    "# No. of lines in test set\n",
    "!wc -l {data_dir}/test.csv"
   ]
  },
  {
   "cell_type": "code",
   "execution_count": null,
   "id": "613c6cb1",
   "metadata": {
    "executionInfo": {
     "elapsed": 5,
     "status": "ok",
     "timestamp": 1723795554335,
     "user": {
      "displayName": "Mridul Chaudhary",
      "userId": "01592793057690041972"
     },
     "user_tz": -330
    },
    "id": "Xt_SE8j99OwU",
    "outputId": "9b14930c-e57b-4c91-dec9-d42ddb943289",
    "papermill": {
     "duration": null,
     "end_time": null,
     "exception": null,
     "start_time": null,
     "status": "pending"
    },
    "tags": []
   },
   "outputs": [],
   "source": [
    "# No. of lines in submission file\n",
    "!wc -l {data_dir}/sample_submission.csv"
   ]
  },
  {
   "cell_type": "markdown",
   "id": "a8db72fb",
   "metadata": {
    "id": "CHA1BxI69P0v",
    "papermill": {
     "duration": null,
     "end_time": null,
     "exception": null,
     "start_time": null,
     "status": "pending"
    },
    "tags": []
   },
   "source": [
    "Observations:\n",
    "\n",
    "- This is a supervised learning regression problem\n",
    "- Training data is 5.5 GB in size\n",
    "- Training data has 5.5 million rows\n",
    "- Test set is much smaller (< 10,000 rows)\n",
    "- The training set has 8 columns:\n",
    "    - `key` (a unique identifier)\n",
    "    - `fare_amount` (target column)\n",
    "    - `pickup_datetime`\n",
    "    - `pickup_longitude`\n",
    "    - `pickup_latitude`\n",
    "    - `dropoff_longitude`\n",
    "    - `dropoff_latitude`\n",
    "    - `passenger_count`\n",
    "- The test set has all columns except the target column `fare_amount`.\n",
    "- The submission file should contain the `key` and `fare_amount` for each test sample.\n"
   ]
  },
  {
   "cell_type": "markdown",
   "id": "a9e3a98f",
   "metadata": {
    "id": "eQIM-fGN9QnU",
    "papermill": {
     "duration": null,
     "end_time": null,
     "exception": null,
     "start_time": null,
     "status": "pending"
    },
    "tags": []
   },
   "source": [
    "### Loading Training Set\n",
    "\n",
    "Loading the entire dataset into Pandas is going to be slow, so we can use the following optimizations:\n",
    "\n",
    "- Ignore the `key` column\n",
    "- Parse pickup datetime while loading data\n",
    "- Specify data types for other columns\n",
    "   - `float32` for geo coordinates\n",
    "   - `float32` for fare amount\n",
    "   - `uint8` for passenger count\n",
    "- Work with a 1% sample of the data (~500k rows)\n",
    "\n",
    "We can apply these optimizations while using [`pd.read_csv`](https://pandas.pydata.org/pandas-docs/stable/reference/api/pandas.read_csv.html)"
   ]
  },
  {
   "cell_type": "code",
   "execution_count": null,
   "id": "81c339ac",
   "metadata": {
    "executionInfo": {
     "elapsed": 2634,
     "status": "ok",
     "timestamp": 1723795556966,
     "user": {
      "displayName": "Mridul Chaudhary",
      "userId": "01592793057690041972"
     },
     "user_tz": -330
    },
    "id": "PcIsCxzX9Qpe",
    "papermill": {
     "duration": null,
     "end_time": null,
     "exception": null,
     "start_time": null,
     "status": "pending"
    },
    "tags": []
   },
   "outputs": [],
   "source": [
    "import pandas as pd"
   ]
  },
  {
   "cell_type": "code",
   "execution_count": null,
   "id": "6721bcd5",
   "metadata": {
    "executionInfo": {
     "elapsed": 4,
     "status": "ok",
     "timestamp": 1723795556966,
     "user": {
      "displayName": "Mridul Chaudhary",
      "userId": "01592793057690041972"
     },
     "user_tz": -330
    },
    "id": "Bc7IcSzwAv12",
    "papermill": {
     "duration": null,
     "end_time": null,
     "exception": null,
     "start_time": null,
     "status": "pending"
    },
    "tags": []
   },
   "outputs": [],
   "source": [
    "import random"
   ]
  },
  {
   "cell_type": "code",
   "execution_count": null,
   "id": "84a81705",
   "metadata": {
    "executionInfo": {
     "elapsed": 4,
     "status": "ok",
     "timestamp": 1723795556967,
     "user": {
      "displayName": "Mridul Chaudhary",
      "userId": "01592793057690041972"
     },
     "user_tz": -330
    },
    "id": "BTnlqp5b9Qr5",
    "papermill": {
     "duration": null,
     "end_time": null,
     "exception": null,
     "start_time": null,
     "status": "pending"
    },
    "tags": []
   },
   "outputs": [],
   "source": [
    "sample_frac = 0.01"
   ]
  },
  {
   "cell_type": "code",
   "execution_count": null,
   "id": "9e7981ef",
   "metadata": {
    "executionInfo": {
     "elapsed": 93089,
     "status": "ok",
     "timestamp": 1723795650052,
     "user": {
      "displayName": "Mridul Chaudhary",
      "userId": "01592793057690041972"
     },
     "user_tz": -330
    },
    "id": "rge0zOhT9QuQ",
    "outputId": "da9da9ea-ca7f-408a-b50e-a8351b8263ee",
    "papermill": {
     "duration": null,
     "end_time": null,
     "exception": null,
     "start_time": null,
     "status": "pending"
    },
    "tags": []
   },
   "outputs": [],
   "source": [
    "%%time\n",
    "selected_cols = 'fare_amount,pickup_datetime,pickup_longitude,pickup_latitude,dropoff_longitude,dropoff_latitude,passenger_count'.split(',')\n",
    "dtypes = {\n",
    "    'fare_amount': 'float32',\n",
    "    'pickup_longitude': 'float32',\n",
    "    'pickup_latitude': 'float32',\n",
    "    'dropoff_longitude': 'float32',\n",
    "    'passenger_count': 'float32'\n",
    "}\n",
    "\n",
    "def skip_row(row_idx):\n",
    "    if row_idx == 0:\n",
    "        return False\n",
    "    return random.random() > sample_frac\n",
    "\n",
    "random.seed(42)\n",
    "df = pd.read_csv(data_dir+\"/train.csv\",\n",
    "                 usecols=selected_cols,\n",
    "                 dtype=dtypes,\n",
    "                 parse_dates=['pickup_datetime'],\n",
    "                 skiprows=skip_row)"
   ]
  },
  {
   "cell_type": "code",
   "execution_count": null,
   "id": "445eb8a7",
   "metadata": {
    "executionInfo": {
     "elapsed": 38,
     "status": "ok",
     "timestamp": 1723795650053,
     "user": {
      "displayName": "Mridul Chaudhary",
      "userId": "01592793057690041972"
     },
     "user_tz": -330
    },
    "id": "SwZXfolc9QzJ",
    "outputId": "943adc24-e732-4b89-ab0d-349e70d09289",
    "papermill": {
     "duration": null,
     "end_time": null,
     "exception": null,
     "start_time": null,
     "status": "pending"
    },
    "tags": []
   },
   "outputs": [],
   "source": [
    "df.sample(5)"
   ]
  },
  {
   "cell_type": "markdown",
   "id": "dccbb9e0",
   "metadata": {
    "id": "GSVK6kJz9Q1b",
    "papermill": {
     "duration": null,
     "end_time": null,
     "exception": null,
     "start_time": null,
     "status": "pending"
    },
    "tags": []
   },
   "source": [
    "### Load Test Set\n",
    "\n",
    "For the test set, we'll simply provide the data types."
   ]
  },
  {
   "cell_type": "code",
   "execution_count": null,
   "id": "bbae1af6",
   "metadata": {
    "executionInfo": {
     "elapsed": 36,
     "status": "ok",
     "timestamp": 1723795650053,
     "user": {
      "displayName": "Mridul Chaudhary",
      "userId": "01592793057690041972"
     },
     "user_tz": -330
    },
    "id": "g2RW_wuiCtQp",
    "papermill": {
     "duration": null,
     "end_time": null,
     "exception": null,
     "start_time": null,
     "status": "pending"
    },
    "tags": []
   },
   "outputs": [],
   "source": [
    "test_df = pd.read_csv(data_dir+'/test.csv',dtype = dtypes ,parse_dates = ['pickup_datetime'])"
   ]
  },
  {
   "cell_type": "code",
   "execution_count": null,
   "id": "63058ef1",
   "metadata": {
    "executionInfo": {
     "elapsed": 36,
     "status": "ok",
     "timestamp": 1723795650053,
     "user": {
      "displayName": "Mridul Chaudhary",
      "userId": "01592793057690041972"
     },
     "user_tz": -330
    },
    "id": "lJPhxNVoCtS-",
    "outputId": "ed92a6a7-400a-45c9-f834-874af132f89a",
    "papermill": {
     "duration": null,
     "end_time": null,
     "exception": null,
     "start_time": null,
     "status": "pending"
    },
    "tags": []
   },
   "outputs": [],
   "source": [
    "test_df"
   ]
  },
  {
   "cell_type": "markdown",
   "id": "2cbd3e20",
   "metadata": {
    "id": "9H008wYyCtVM",
    "papermill": {
     "duration": null,
     "end_time": null,
     "exception": null,
     "start_time": null,
     "status": "pending"
    },
    "tags": []
   },
   "source": [
    "## 2. Explore the Dataset\n",
    "\n",
    "- Basic info about training set\n",
    "- Basic info about test set\n",
    "- Exploratory data analysis & visualization\n",
    "- Ask & answer questions"
   ]
  },
  {
   "cell_type": "markdown",
   "id": "1976b2c9",
   "metadata": {
    "id": "qtgwai0sCtX-",
    "papermill": {
     "duration": null,
     "end_time": null,
     "exception": null,
     "start_time": null,
     "status": "pending"
    },
    "tags": []
   },
   "source": [
    "### Training Set"
   ]
  },
  {
   "cell_type": "code",
   "execution_count": null,
   "id": "eecd5bdd",
   "metadata": {
    "executionInfo": {
     "elapsed": 34,
     "status": "ok",
     "timestamp": 1723795650053,
     "user": {
      "displayName": "Mridul Chaudhary",
      "userId": "01592793057690041972"
     },
     "user_tz": -330
    },
    "id": "OVPdDvLfCtZ7",
    "outputId": "cbfd31d0-4359-4ed9-fae5-3a541cd97fbc",
    "papermill": {
     "duration": null,
     "end_time": null,
     "exception": null,
     "start_time": null,
     "status": "pending"
    },
    "tags": []
   },
   "outputs": [],
   "source": [
    "df.info()"
   ]
  },
  {
   "cell_type": "code",
   "execution_count": null,
   "id": "81ac521e",
   "metadata": {
    "executionInfo": {
     "elapsed": 29,
     "status": "ok",
     "timestamp": 1723795650054,
     "user": {
      "displayName": "Mridul Chaudhary",
      "userId": "01592793057690041972"
     },
     "user_tz": -330
    },
    "id": "emMNmWH7CtcM",
    "outputId": "45ab7332-32c4-42aa-fb15-fa69c76b5530",
    "papermill": {
     "duration": null,
     "end_time": null,
     "exception": null,
     "start_time": null,
     "status": "pending"
    },
    "tags": []
   },
   "outputs": [],
   "source": [
    "df.describe()"
   ]
  },
  {
   "cell_type": "code",
   "execution_count": null,
   "id": "53a4b66e",
   "metadata": {
    "executionInfo": {
     "elapsed": 27,
     "status": "ok",
     "timestamp": 1723795650054,
     "user": {
      "displayName": "Mridul Chaudhary",
      "userId": "01592793057690041972"
     },
     "user_tz": -330
    },
    "id": "UzK034owCtfD",
    "outputId": "0faa4a1e-22bb-4686-e15b-eecf358abdfa",
    "papermill": {
     "duration": null,
     "end_time": null,
     "exception": null,
     "start_time": null,
     "status": "pending"
    },
    "tags": []
   },
   "outputs": [],
   "source": [
    "df.pickup_datetime.min(), df.pickup_datetime.max()"
   ]
  },
  {
   "cell_type": "markdown",
   "id": "36850add",
   "metadata": {
    "id": "vzVOrBH6DzYW",
    "papermill": {
     "duration": null,
     "end_time": null,
     "exception": null,
     "start_time": null,
     "status": "pending"
    },
    "tags": []
   },
   "source": [
    "Observations about training data:\n",
    "\n",
    "- 550k+ rows, as expected\n",
    "- No missing data (in the sample)\n",
    "- `fare_amount` ranges from \\$-52.0 to \\$499.0\n",
    "- `passenger_count` ranges from 0 to 208\n",
    "- There seem to be some errors in the latitude & longitude values\n",
    "- Dates range from 1st Jan 2009 to 30th June 2015\n",
    "- The dataset takes up ~19 MB of space in the RAM\n",
    "\n",
    "We may need to deal with outliers and data entry errors before we train our model."
   ]
  },
  {
   "cell_type": "markdown",
   "id": "820f29b0",
   "metadata": {
    "id": "h8tsikQGDz0Q",
    "papermill": {
     "duration": null,
     "end_time": null,
     "exception": null,
     "start_time": null,
     "status": "pending"
    },
    "tags": []
   },
   "source": [
    "### Test Set"
   ]
  },
  {
   "cell_type": "code",
   "execution_count": null,
   "id": "a2d95bf4",
   "metadata": {
    "executionInfo": {
     "elapsed": 24,
     "status": "ok",
     "timestamp": 1723795650054,
     "user": {
      "displayName": "Mridul Chaudhary",
      "userId": "01592793057690041972"
     },
     "user_tz": -330
    },
    "id": "QOE7J2BwDz2Z",
    "outputId": "1828f110-2660-4bb6-89de-639d0a33b95c",
    "papermill": {
     "duration": null,
     "end_time": null,
     "exception": null,
     "start_time": null,
     "status": "pending"
    },
    "tags": []
   },
   "outputs": [],
   "source": [
    "test_df.info()"
   ]
  },
  {
   "cell_type": "code",
   "execution_count": null,
   "id": "1c06a1c7",
   "metadata": {
    "executionInfo": {
     "elapsed": 767,
     "status": "ok",
     "timestamp": 1723795650799,
     "user": {
      "displayName": "Mridul Chaudhary",
      "userId": "01592793057690041972"
     },
     "user_tz": -330
    },
    "id": "90kuckWhDz4t",
    "outputId": "04b7c329-acf0-4af7-d579-76d57a16cb4d",
    "papermill": {
     "duration": null,
     "end_time": null,
     "exception": null,
     "start_time": null,
     "status": "pending"
    },
    "tags": []
   },
   "outputs": [],
   "source": [
    "test_df.describe()"
   ]
  },
  {
   "cell_type": "code",
   "execution_count": null,
   "id": "d6a743bb",
   "metadata": {
    "executionInfo": {
     "elapsed": 6,
     "status": "ok",
     "timestamp": 1723795650799,
     "user": {
      "displayName": "Mridul Chaudhary",
      "userId": "01592793057690041972"
     },
     "user_tz": -330
    },
    "id": "G-T0kjF3Dz7I",
    "outputId": "bf4dd83c-5d81-4f9a-e6ad-1b1c7a1655c9",
    "papermill": {
     "duration": null,
     "end_time": null,
     "exception": null,
     "start_time": null,
     "status": "pending"
    },
    "tags": []
   },
   "outputs": [],
   "source": [
    "test_df.pickup_datetime.min(), test_df.pickup_datetime.max()"
   ]
  },
  {
   "cell_type": "markdown",
   "id": "26f70ad7",
   "metadata": {
    "id": "zD10_18fDz9l",
    "papermill": {
     "duration": null,
     "end_time": null,
     "exception": null,
     "start_time": null,
     "status": "pending"
    },
    "tags": []
   },
   "source": [
    "Some observations about the test set:\n",
    "\n",
    "- 9914 rows of data\n",
    "- No missing values\n",
    "- No obvious data entry errors\n",
    "- 1 to 6 passengers (we can limit training data to this range)\n",
    "- Latitudes lie between 40 and 42\n",
    "- Longitudes lie between -75 and -72\n",
    "- Pickup dates range from Jan 1st 2009 to Jun  30th 2015 (same as training set)\n",
    "\n",
    "We can use the ranges of the test set to drop outliers/invalid data from the training set."
   ]
  },
  {
   "cell_type": "markdown",
   "id": "794200ee",
   "metadata": {
    "id": "DBe-_PGuD0HQ",
    "papermill": {
     "duration": null,
     "end_time": null,
     "exception": null,
     "start_time": null,
     "status": "pending"
    },
    "tags": []
   },
   "source": [
    "### Ask & Answer Questions\n",
    "\n",
    "**Exercise**: Ask & answer questions about the dataset:\n",
    "\n",
    "1. What is the busiest day of the week?\n",
    "2. What is the busiest time of the day?\n",
    "3. In which month are fares the highest?\n",
    "4. Which pickup locations have the highest fares?\n",
    "5. Which drop locations have the highest fares?\n",
    "6. What is the average ride distance?\n",
    "\n",
    "EDA + asking questions will help you develop a deeper understand of the data and give you ideas for feature engineering."
   ]
  },
  {
   "cell_type": "markdown",
   "id": "6fbb8541",
   "metadata": {
    "id": "rm20PLydEW2H",
    "papermill": {
     "duration": null,
     "end_time": null,
     "exception": null,
     "start_time": null,
     "status": "pending"
    },
    "tags": []
   },
   "source": [
    "## 3. Prepare Dataset for Training\n",
    "\n",
    "- Split Training & Validation Set\n",
    "- Fill/Remove Missing Values\n",
    "- Extract Inputs & Outputs\n",
    "   - Training\n",
    "   - Validation\n",
    "   - Test"
   ]
  },
  {
   "cell_type": "markdown",
   "id": "226cb4ad",
   "metadata": {
    "id": "6A4TAUwLEW4a",
    "papermill": {
     "duration": null,
     "end_time": null,
     "exception": null,
     "start_time": null,
     "status": "pending"
    },
    "tags": []
   },
   "source": [
    "### Split Training & Validation Set\n",
    "\n",
    "We'll set aside 20% of the training data as the validation set, to evaluate the models we train on previously unseen data.\n",
    "\n",
    "Since the test set and training set have the same date ranges, we can pick a random 20% fraction."
   ]
  },
  {
   "cell_type": "code",
   "execution_count": null,
   "id": "776b45ff",
   "metadata": {
    "executionInfo": {
     "elapsed": 1390,
     "status": "ok",
     "timestamp": 1723795652186,
     "user": {
      "displayName": "Mridul Chaudhary",
      "userId": "01592793057690041972"
     },
     "user_tz": -330
    },
    "id": "80fu-Xr6EW6r",
    "papermill": {
     "duration": null,
     "end_time": null,
     "exception": null,
     "start_time": null,
     "status": "pending"
    },
    "tags": []
   },
   "outputs": [],
   "source": [
    "from sklearn.model_selection import train_test_split"
   ]
  },
  {
   "cell_type": "code",
   "execution_count": null,
   "id": "8afc3aa6",
   "metadata": {
    "executionInfo": {
     "elapsed": 30,
     "status": "ok",
     "timestamp": 1723795652187,
     "user": {
      "displayName": "Mridul Chaudhary",
      "userId": "01592793057690041972"
     },
     "user_tz": -330
    },
    "id": "U0yhboSaEW9H",
    "papermill": {
     "duration": null,
     "end_time": null,
     "exception": null,
     "start_time": null,
     "status": "pending"
    },
    "tags": []
   },
   "outputs": [],
   "source": [
    "train_df , val_df = train_test_split(df,test_size  = 0.2,random_state = 42)"
   ]
  },
  {
   "cell_type": "code",
   "execution_count": null,
   "id": "6c9d2a03",
   "metadata": {
    "executionInfo": {
     "elapsed": 28,
     "status": "ok",
     "timestamp": 1723795652187,
     "user": {
      "displayName": "Mridul Chaudhary",
      "userId": "01592793057690041972"
     },
     "user_tz": -330
    },
    "id": "8YXkm6hoEW_Z",
    "outputId": "de3cca29-cc25-4470-b151-f39cc11f6b52",
    "papermill": {
     "duration": null,
     "end_time": null,
     "exception": null,
     "start_time": null,
     "status": "pending"
    },
    "tags": []
   },
   "outputs": [],
   "source": [
    "len(train_df) , len(val_df)"
   ]
  },
  {
   "cell_type": "markdown",
   "id": "40c8ce94",
   "metadata": {
    "id": "xvpu--OsEXCQ",
    "papermill": {
     "duration": null,
     "end_time": null,
     "exception": null,
     "start_time": null,
     "status": "pending"
    },
    "tags": []
   },
   "source": [
    "### Fill/Remove Missing Values\n",
    "\n",
    "There are no missing values in our sample, but if there were, we could simply drop the rows with missing values instead of trying to fill them (since we have a lot of training data)>"
   ]
  },
  {
   "cell_type": "code",
   "execution_count": null,
   "id": "b24b02b5",
   "metadata": {
    "executionInfo": {
     "elapsed": 26,
     "status": "ok",
     "timestamp": 1723795652187,
     "user": {
      "displayName": "Mridul Chaudhary",
      "userId": "01592793057690041972"
     },
     "user_tz": -330
    },
    "id": "kGYMZQv1EXEm",
    "papermill": {
     "duration": null,
     "end_time": null,
     "exception": null,
     "start_time": null,
     "status": "pending"
    },
    "tags": []
   },
   "outputs": [],
   "source": [
    "train_df = train_df.dropna()\n",
    "val_df = val_df.dropna()"
   ]
  },
  {
   "cell_type": "code",
   "execution_count": null,
   "id": "a3f7333f",
   "metadata": {
    "executionInfo": {
     "elapsed": 26,
     "status": "ok",
     "timestamp": 1723795652187,
     "user": {
      "displayName": "Mridul Chaudhary",
      "userId": "01592793057690041972"
     },
     "user_tz": -330
    },
    "id": "QQ5kKY87JA8G",
    "outputId": "d3be5677-8a3e-43a5-90d0-d320d5ffdf64",
    "papermill": {
     "duration": null,
     "end_time": null,
     "exception": null,
     "start_time": null,
     "status": "pending"
    },
    "tags": []
   },
   "outputs": [],
   "source": [
    "len(train_df) , len(val_df)"
   ]
  },
  {
   "cell_type": "markdown",
   "id": "f9893108",
   "metadata": {
    "id": "tjxpNyiVJA_F",
    "papermill": {
     "duration": null,
     "end_time": null,
     "exception": null,
     "start_time": null,
     "status": "pending"
    },
    "tags": []
   },
   "source": [
    "### Extract Inputs and Outputs"
   ]
  },
  {
   "cell_type": "code",
   "execution_count": null,
   "id": "c01adec2",
   "metadata": {
    "executionInfo": {
     "elapsed": 25,
     "status": "ok",
     "timestamp": 1723795652187,
     "user": {
      "displayName": "Mridul Chaudhary",
      "userId": "01592793057690041972"
     },
     "user_tz": -330
    },
    "id": "vnDP8XGxJBBZ",
    "outputId": "6762d58e-e7e4-4414-ba22-9c398b2fc318",
    "papermill": {
     "duration": null,
     "end_time": null,
     "exception": null,
     "start_time": null,
     "status": "pending"
    },
    "tags": []
   },
   "outputs": [],
   "source": [
    "df.columns"
   ]
  },
  {
   "cell_type": "code",
   "execution_count": null,
   "id": "60745f81",
   "metadata": {
    "executionInfo": {
     "elapsed": 23,
     "status": "ok",
     "timestamp": 1723795652187,
     "user": {
      "displayName": "Mridul Chaudhary",
      "userId": "01592793057690041972"
     },
     "user_tz": -330
    },
    "id": "a_XIw7mNJBDk",
    "papermill": {
     "duration": null,
     "end_time": null,
     "exception": null,
     "start_time": null,
     "status": "pending"
    },
    "tags": []
   },
   "outputs": [],
   "source": [
    "input_cols = ['pickup_longitude', 'pickup_latitude',\n",
    "       'dropoff_longitude', 'dropoff_latitude', 'passenger_count']"
   ]
  },
  {
   "cell_type": "code",
   "execution_count": null,
   "id": "d7332438",
   "metadata": {
    "executionInfo": {
     "elapsed": 23,
     "status": "ok",
     "timestamp": 1723795652187,
     "user": {
      "displayName": "Mridul Chaudhary",
      "userId": "01592793057690041972"
     },
     "user_tz": -330
    },
    "id": "5mrw80W7JBGL",
    "papermill": {
     "duration": null,
     "end_time": null,
     "exception": null,
     "start_time": null,
     "status": "pending"
    },
    "tags": []
   },
   "outputs": [],
   "source": [
    "target_col = 'fare_amount'"
   ]
  },
  {
   "cell_type": "markdown",
   "id": "5ce1d3ed",
   "metadata": {
    "id": "-KG8JidmJBIu",
    "papermill": {
     "duration": null,
     "end_time": null,
     "exception": null,
     "start_time": null,
     "status": "pending"
    },
    "tags": []
   },
   "source": [
    "#### Training"
   ]
  },
  {
   "cell_type": "code",
   "execution_count": null,
   "id": "74217c92",
   "metadata": {
    "executionInfo": {
     "elapsed": 23,
     "status": "ok",
     "timestamp": 1723795652187,
     "user": {
      "displayName": "Mridul Chaudhary",
      "userId": "01592793057690041972"
     },
     "user_tz": -330
    },
    "id": "ZsSHJssOJBLT",
    "papermill": {
     "duration": null,
     "end_time": null,
     "exception": null,
     "start_time": null,
     "status": "pending"
    },
    "tags": []
   },
   "outputs": [],
   "source": [
    "train_inputs = train_df[input_cols]"
   ]
  },
  {
   "cell_type": "code",
   "execution_count": null,
   "id": "729877b0",
   "metadata": {
    "executionInfo": {
     "elapsed": 23,
     "status": "ok",
     "timestamp": 1723795652187,
     "user": {
      "displayName": "Mridul Chaudhary",
      "userId": "01592793057690041972"
     },
     "user_tz": -330
    },
    "id": "YSZOPOwSJBN5",
    "papermill": {
     "duration": null,
     "end_time": null,
     "exception": null,
     "start_time": null,
     "status": "pending"
    },
    "tags": []
   },
   "outputs": [],
   "source": [
    "train_targets = train_df[target_col]"
   ]
  },
  {
   "cell_type": "code",
   "execution_count": null,
   "id": "64e60754",
   "metadata": {
    "executionInfo": {
     "elapsed": 23,
     "status": "ok",
     "timestamp": 1723795652187,
     "user": {
      "displayName": "Mridul Chaudhary",
      "userId": "01592793057690041972"
     },
     "user_tz": -330
    },
    "id": "mJbyaBU1JBQU",
    "outputId": "8fafb09d-9025-4178-a586-ae2598b80829",
    "papermill": {
     "duration": null,
     "end_time": null,
     "exception": null,
     "start_time": null,
     "status": "pending"
    },
    "tags": []
   },
   "outputs": [],
   "source": [
    "train_inputs"
   ]
  },
  {
   "cell_type": "code",
   "execution_count": null,
   "id": "3aa396f1",
   "metadata": {
    "executionInfo": {
     "elapsed": 22,
     "status": "ok",
     "timestamp": 1723795652188,
     "user": {
      "displayName": "Mridul Chaudhary",
      "userId": "01592793057690041972"
     },
     "user_tz": -330
    },
    "id": "rb87TiZtJBS3",
    "outputId": "ce510d05-ed8d-45e6-b073-5bca6f67147d",
    "papermill": {
     "duration": null,
     "end_time": null,
     "exception": null,
     "start_time": null,
     "status": "pending"
    },
    "tags": []
   },
   "outputs": [],
   "source": [
    "train_targets"
   ]
  },
  {
   "cell_type": "markdown",
   "id": "e2915924",
   "metadata": {
    "id": "Z6jcY5qCJBWQ",
    "papermill": {
     "duration": null,
     "end_time": null,
     "exception": null,
     "start_time": null,
     "status": "pending"
    },
    "tags": []
   },
   "source": [
    "#### Validation"
   ]
  },
  {
   "cell_type": "code",
   "execution_count": null,
   "id": "106b9e19",
   "metadata": {
    "executionInfo": {
     "elapsed": 21,
     "status": "ok",
     "timestamp": 1723795652188,
     "user": {
      "displayName": "Mridul Chaudhary",
      "userId": "01592793057690041972"
     },
     "user_tz": -330
    },
    "id": "GgiiwlQeL7V8",
    "papermill": {
     "duration": null,
     "end_time": null,
     "exception": null,
     "start_time": null,
     "status": "pending"
    },
    "tags": []
   },
   "outputs": [],
   "source": [
    "val_inputs = val_df[input_cols]\n",
    "val_targets = val_df[target_col]"
   ]
  },
  {
   "cell_type": "code",
   "execution_count": null,
   "id": "de069a46",
   "metadata": {
    "executionInfo": {
     "elapsed": 21,
     "status": "ok",
     "timestamp": 1723795652188,
     "user": {
      "displayName": "Mridul Chaudhary",
      "userId": "01592793057690041972"
     },
     "user_tz": -330
    },
    "id": "-ko3BToQMB3y",
    "outputId": "510803db-6abe-4ef9-c840-406d7bac6e43",
    "papermill": {
     "duration": null,
     "end_time": null,
     "exception": null,
     "start_time": null,
     "status": "pending"
    },
    "tags": []
   },
   "outputs": [],
   "source": [
    "val_inputs"
   ]
  },
  {
   "cell_type": "code",
   "execution_count": null,
   "id": "b790bbec",
   "metadata": {
    "executionInfo": {
     "elapsed": 20,
     "status": "ok",
     "timestamp": 1723795652188,
     "user": {
      "displayName": "Mridul Chaudhary",
      "userId": "01592793057690041972"
     },
     "user_tz": -330
    },
    "id": "0TLdD2quMDDZ",
    "outputId": "0207ef0a-abea-4b0e-f190-4e05be16bd87",
    "papermill": {
     "duration": null,
     "end_time": null,
     "exception": null,
     "start_time": null,
     "status": "pending"
    },
    "tags": []
   },
   "outputs": [],
   "source": [
    "val_targets"
   ]
  },
  {
   "cell_type": "markdown",
   "id": "872c4315",
   "metadata": {
    "id": "jFzvMhUYMFIL",
    "papermill": {
     "duration": null,
     "end_time": null,
     "exception": null,
     "start_time": null,
     "status": "pending"
    },
    "tags": []
   },
   "source": [
    "#### Test"
   ]
  },
  {
   "cell_type": "code",
   "execution_count": null,
   "id": "60b5ee95",
   "metadata": {
    "executionInfo": {
     "elapsed": 19,
     "status": "ok",
     "timestamp": 1723795652188,
     "user": {
      "displayName": "Mridul Chaudhary",
      "userId": "01592793057690041972"
     },
     "user_tz": -330
    },
    "id": "pbPstGNJMJ7O",
    "papermill": {
     "duration": null,
     "end_time": null,
     "exception": null,
     "start_time": null,
     "status": "pending"
    },
    "tags": []
   },
   "outputs": [],
   "source": [
    "test_inputs = test_df[input_cols]"
   ]
  },
  {
   "cell_type": "code",
   "execution_count": null,
   "id": "3b8c814d",
   "metadata": {
    "executionInfo": {
     "elapsed": 19,
     "status": "ok",
     "timestamp": 1723795652188,
     "user": {
      "displayName": "Mridul Chaudhary",
      "userId": "01592793057690041972"
     },
     "user_tz": -330
    },
    "id": "o37EZC04MJ9l",
    "outputId": "7999900e-d9d4-4925-b549-d5a67daac8bc",
    "papermill": {
     "duration": null,
     "end_time": null,
     "exception": null,
     "start_time": null,
     "status": "pending"
    },
    "tags": []
   },
   "outputs": [],
   "source": [
    "test_inputs"
   ]
  },
  {
   "cell_type": "markdown",
   "id": "ca7c6b3c",
   "metadata": {
    "id": "ejCxkF6LMKAH",
    "papermill": {
     "duration": null,
     "end_time": null,
     "exception": null,
     "start_time": null,
     "status": "pending"
    },
    "tags": []
   },
   "source": [
    "## 4. Train Hardcoded & Baseline Models\n",
    "\n",
    "- Hardcoded model: always predict average fare\n",
    "- Baseline model: Linear regression\n",
    "\n",
    "For evaluation the dataset uses RMSE error:\n",
    "https://www.kaggle.com/c/new-york-city-taxi-fare-prediction/overview/evaluation"
   ]
  },
  {
   "cell_type": "markdown",
   "id": "9647d945",
   "metadata": {
    "id": "KyYS1B1VMKCf",
    "papermill": {
     "duration": null,
     "end_time": null,
     "exception": null,
     "start_time": null,
     "status": "pending"
    },
    "tags": []
   },
   "source": [
    "### Train & Evaluate Hardcoded Model\n",
    "\n",
    "Let's create a simple model that always predicts the average."
   ]
  },
  {
   "cell_type": "code",
   "execution_count": null,
   "id": "589e5374",
   "metadata": {
    "executionInfo": {
     "elapsed": 18,
     "status": "ok",
     "timestamp": 1723795652188,
     "user": {
      "displayName": "Mridul Chaudhary",
      "userId": "01592793057690041972"
     },
     "user_tz": -330
    },
    "id": "XRYWeubpMKE7",
    "papermill": {
     "duration": null,
     "end_time": null,
     "exception": null,
     "start_time": null,
     "status": "pending"
    },
    "tags": []
   },
   "outputs": [],
   "source": [
    "import numpy as np"
   ]
  },
  {
   "cell_type": "code",
   "execution_count": null,
   "id": "5e588e1e",
   "metadata": {
    "executionInfo": {
     "elapsed": 18,
     "status": "ok",
     "timestamp": 1723795652188,
     "user": {
      "displayName": "Mridul Chaudhary",
      "userId": "01592793057690041972"
     },
     "user_tz": -330
    },
    "id": "iy1iNTX2MKHL",
    "papermill": {
     "duration": null,
     "end_time": null,
     "exception": null,
     "start_time": null,
     "status": "pending"
    },
    "tags": []
   },
   "outputs": [],
   "source": [
    "class MeanRegressor():\n",
    "  def fit(self,inputs,targets):\n",
    "    self.mean = np.mean(targets)\n",
    "\n",
    "  def predict(self,inputs):\n",
    "    return np.full(inputs.shape[0],self.mean)"
   ]
  },
  {
   "cell_type": "code",
   "execution_count": null,
   "id": "750744eb",
   "metadata": {
    "executionInfo": {
     "elapsed": 18,
     "status": "ok",
     "timestamp": 1723795652188,
     "user": {
      "displayName": "Mridul Chaudhary",
      "userId": "01592793057690041972"
     },
     "user_tz": -330
    },
    "id": "nJ_5OPxfMKJj",
    "papermill": {
     "duration": null,
     "end_time": null,
     "exception": null,
     "start_time": null,
     "status": "pending"
    },
    "tags": []
   },
   "outputs": [],
   "source": [
    "mean_model = MeanRegressor()"
   ]
  },
  {
   "cell_type": "code",
   "execution_count": null,
   "id": "56ef0324",
   "metadata": {
    "executionInfo": {
     "elapsed": 15,
     "status": "ok",
     "timestamp": 1723795652188,
     "user": {
      "displayName": "Mridul Chaudhary",
      "userId": "01592793057690041972"
     },
     "user_tz": -330
    },
    "id": "wVJ1SF_9MKLz",
    "papermill": {
     "duration": null,
     "end_time": null,
     "exception": null,
     "start_time": null,
     "status": "pending"
    },
    "tags": []
   },
   "outputs": [],
   "source": [
    "mean_model.fit(train_inputs,train_targets)"
   ]
  },
  {
   "cell_type": "code",
   "execution_count": null,
   "id": "011c1356",
   "metadata": {
    "executionInfo": {
     "elapsed": 15,
     "status": "ok",
     "timestamp": 1723795652188,
     "user": {
      "displayName": "Mridul Chaudhary",
      "userId": "01592793057690041972"
     },
     "user_tz": -330
    },
    "id": "SDNmEFmuMKPE",
    "outputId": "d0656e7e-87fa-453c-c387-4779f0087ca0",
    "papermill": {
     "duration": null,
     "end_time": null,
     "exception": null,
     "start_time": null,
     "status": "pending"
    },
    "tags": []
   },
   "outputs": [],
   "source": [
    "mean_model.mean"
   ]
  },
  {
   "cell_type": "code",
   "execution_count": null,
   "id": "553396ca",
   "metadata": {
    "executionInfo": {
     "elapsed": 501,
     "status": "ok",
     "timestamp": 1723795664104,
     "user": {
      "displayName": "Mridul Chaudhary",
      "userId": "01592793057690041972"
     },
     "user_tz": -330
    },
    "id": "J7o1qgsqNl2o",
    "outputId": "49be7220-b436-4f05-e517-e45e6a98c8e3",
    "papermill": {
     "duration": null,
     "end_time": null,
     "exception": null,
     "start_time": null,
     "status": "pending"
    },
    "tags": []
   },
   "outputs": [],
   "source": [
    "train_preds = mean_model.predict(train_inputs)\n",
    "train_preds"
   ]
  },
  {
   "cell_type": "code",
   "execution_count": null,
   "id": "4c1f5eef",
   "metadata": {
    "executionInfo": {
     "elapsed": 4,
     "status": "ok",
     "timestamp": 1723795668083,
     "user": {
      "displayName": "Mridul Chaudhary",
      "userId": "01592793057690041972"
     },
     "user_tz": -330
    },
    "id": "lDhYnHtzNpjc",
    "outputId": "0fe661cb-a3c3-4cc3-c311-37dc49bf218b",
    "papermill": {
     "duration": null,
     "end_time": null,
     "exception": null,
     "start_time": null,
     "status": "pending"
    },
    "tags": []
   },
   "outputs": [],
   "source": [
    "val_preds = mean_model.predict(val_inputs)\n",
    "val_preds"
   ]
  },
  {
   "cell_type": "code",
   "execution_count": null,
   "id": "32b3ae5d",
   "metadata": {
    "executionInfo": {
     "elapsed": 3,
     "status": "ok",
     "timestamp": 1723795670105,
     "user": {
      "displayName": "Mridul Chaudhary",
      "userId": "01592793057690041972"
     },
     "user_tz": -330
    },
    "id": "b9ZnxG0zNyPN",
    "papermill": {
     "duration": null,
     "end_time": null,
     "exception": null,
     "start_time": null,
     "status": "pending"
    },
    "tags": []
   },
   "outputs": [],
   "source": [
    "from sklearn.metrics import mean_squared_error"
   ]
  },
  {
   "cell_type": "code",
   "execution_count": null,
   "id": "7d7926cc",
   "metadata": {
    "executionInfo": {
     "elapsed": 2,
     "status": "ok",
     "timestamp": 1723795670835,
     "user": {
      "displayName": "Mridul Chaudhary",
      "userId": "01592793057690041972"
     },
     "user_tz": -330
    },
    "id": "tLw0vk6hOMm5",
    "papermill": {
     "duration": null,
     "end_time": null,
     "exception": null,
     "start_time": null,
     "status": "pending"
    },
    "tags": []
   },
   "outputs": [],
   "source": [
    "train_rmse = mean_squared_error(train_targets,train_preds,squared = False)"
   ]
  },
  {
   "cell_type": "code",
   "execution_count": null,
   "id": "2c930808",
   "metadata": {
    "executionInfo": {
     "elapsed": 2,
     "status": "ok",
     "timestamp": 1723795671518,
     "user": {
      "displayName": "Mridul Chaudhary",
      "userId": "01592793057690041972"
     },
     "user_tz": -330
    },
    "id": "piMYvR2aOTo4",
    "outputId": "4be5bfd7-4ac3-4577-9f82-f17faebe7be4",
    "papermill": {
     "duration": null,
     "end_time": null,
     "exception": null,
     "start_time": null,
     "status": "pending"
    },
    "tags": []
   },
   "outputs": [],
   "source": [
    "train_rmse"
   ]
  },
  {
   "cell_type": "code",
   "execution_count": null,
   "id": "cfcff97a",
   "metadata": {
    "executionInfo": {
     "elapsed": 2,
     "status": "ok",
     "timestamp": 1723795672164,
     "user": {
      "displayName": "Mridul Chaudhary",
      "userId": "01592793057690041972"
     },
     "user_tz": -330
    },
    "id": "WNdkIubsOnFt",
    "outputId": "755b51dc-9a3b-4439-f4a1-2a81fc0d47fc",
    "papermill": {
     "duration": null,
     "end_time": null,
     "exception": null,
     "start_time": null,
     "status": "pending"
    },
    "tags": []
   },
   "outputs": [],
   "source": [
    "val_rmse = mean_squared_error(val_targets, val_preds, squared=False)\n",
    "val_rmse"
   ]
  },
  {
   "cell_type": "markdown",
   "id": "36b8b860",
   "metadata": {
    "id": "Q8CnmOZ1OpUZ",
    "papermill": {
     "duration": null,
     "end_time": null,
     "exception": null,
     "start_time": null,
     "status": "pending"
    },
    "tags": []
   },
   "source": [
    "Our dumb hard-coded model is off by \\$9.899 on average, which is pretty bad considering the average fare is \\$11.35."
   ]
  },
  {
   "cell_type": "markdown",
   "id": "a92f64ba",
   "metadata": {
    "id": "PNAfQU8oOw_2",
    "papermill": {
     "duration": null,
     "end_time": null,
     "exception": null,
     "start_time": null,
     "status": "pending"
    },
    "tags": []
   },
   "source": [
    "### Train & Evaluate Baseline Model\n",
    "\n",
    "We'll traina linear regression model as our baseline, which tries to express the target as a weighted sum of the inputs."
   ]
  },
  {
   "cell_type": "code",
   "execution_count": null,
   "id": "0b12d454",
   "metadata": {
    "executionInfo": {
     "elapsed": 790,
     "status": "ok",
     "timestamp": 1723795678663,
     "user": {
      "displayName": "Mridul Chaudhary",
      "userId": "01592793057690041972"
     },
     "user_tz": -330
    },
    "id": "ehoX12cGOxCU",
    "papermill": {
     "duration": null,
     "end_time": null,
     "exception": null,
     "start_time": null,
     "status": "pending"
    },
    "tags": []
   },
   "outputs": [],
   "source": [
    "from sklearn.linear_model import LinearRegression"
   ]
  },
  {
   "cell_type": "code",
   "execution_count": null,
   "id": "ef9ea4e0",
   "metadata": {
    "executionInfo": {
     "elapsed": 5,
     "status": "ok",
     "timestamp": 1723795678664,
     "user": {
      "displayName": "Mridul Chaudhary",
      "userId": "01592793057690041972"
     },
     "user_tz": -330
    },
    "id": "H-GgG5GbOxEx",
    "papermill": {
     "duration": null,
     "end_time": null,
     "exception": null,
     "start_time": null,
     "status": "pending"
    },
    "tags": []
   },
   "outputs": [],
   "source": [
    "linear_model = LinearRegression()"
   ]
  },
  {
   "cell_type": "code",
   "execution_count": null,
   "id": "b17f077e",
   "metadata": {
    "executionInfo": {
     "elapsed": 4,
     "status": "ok",
     "timestamp": 1723795678664,
     "user": {
      "displayName": "Mridul Chaudhary",
      "userId": "01592793057690041972"
     },
     "user_tz": -330
    },
    "id": "kw_UIZ_nOxHJ",
    "outputId": "cc077734-8e79-4b22-b0ba-a317a15c3009",
    "papermill": {
     "duration": null,
     "end_time": null,
     "exception": null,
     "start_time": null,
     "status": "pending"
    },
    "tags": []
   },
   "outputs": [],
   "source": [
    "linear_model.fit(train_inputs,train_targets)"
   ]
  },
  {
   "cell_type": "code",
   "execution_count": null,
   "id": "c96e566c",
   "metadata": {
    "executionInfo": {
     "elapsed": 3,
     "status": "ok",
     "timestamp": 1723795679419,
     "user": {
      "displayName": "Mridul Chaudhary",
      "userId": "01592793057690041972"
     },
     "user_tz": -330
    },
    "id": "wTURozMjOxJn",
    "outputId": "4d0eb823-1861-4109-fcf2-155cef16bd00",
    "papermill": {
     "duration": null,
     "end_time": null,
     "exception": null,
     "start_time": null,
     "status": "pending"
    },
    "tags": []
   },
   "outputs": [],
   "source": [
    "train_preds = linear_model.predict(train_inputs)\n",
    "train_preds"
   ]
  },
  {
   "cell_type": "code",
   "execution_count": null,
   "id": "1d3a99e1",
   "metadata": {
    "executionInfo": {
     "elapsed": 8,
     "status": "ok",
     "timestamp": 1723795680110,
     "user": {
      "displayName": "Mridul Chaudhary",
      "userId": "01592793057690041972"
     },
     "user_tz": -330
    },
    "id": "tPYcypCjOxMK",
    "outputId": "4dcc3a34-5395-4e61-e79a-ea29d2f52a94",
    "papermill": {
     "duration": null,
     "end_time": null,
     "exception": null,
     "start_time": null,
     "status": "pending"
    },
    "tags": []
   },
   "outputs": [],
   "source": [
    "train_targets"
   ]
  },
  {
   "cell_type": "code",
   "execution_count": null,
   "id": "deb952b2",
   "metadata": {
    "executionInfo": {
     "elapsed": 7,
     "status": "ok",
     "timestamp": 1723795680110,
     "user": {
      "displayName": "Mridul Chaudhary",
      "userId": "01592793057690041972"
     },
     "user_tz": -330
    },
    "id": "bWaEv0gWOxOg",
    "outputId": "c96a3b4b-9b86-4b7e-8b29-6c428dc3b4af",
    "papermill": {
     "duration": null,
     "end_time": null,
     "exception": null,
     "start_time": null,
     "status": "pending"
    },
    "tags": []
   },
   "outputs": [],
   "source": [
    "mean_squared_error(train_targets,train_preds,squared = False)"
   ]
  },
  {
   "cell_type": "code",
   "execution_count": null,
   "id": "7e5c73a7",
   "metadata": {
    "executionInfo": {
     "elapsed": 4,
     "status": "ok",
     "timestamp": 1723795680747,
     "user": {
      "displayName": "Mridul Chaudhary",
      "userId": "01592793057690041972"
     },
     "user_tz": -330
    },
    "id": "FNA9_0JrOxRU",
    "outputId": "d7ea827e-e2ad-489a-b715-715fbddde9d5",
    "papermill": {
     "duration": null,
     "end_time": null,
     "exception": null,
     "start_time": null,
     "status": "pending"
    },
    "tags": []
   },
   "outputs": [],
   "source": [
    "val_preds = linear_model.predict(val_inputs)\n",
    "val_preds"
   ]
  },
  {
   "cell_type": "code",
   "execution_count": null,
   "id": "159f65be",
   "metadata": {
    "executionInfo": {
     "elapsed": 3,
     "status": "ok",
     "timestamp": 1723795680747,
     "user": {
      "displayName": "Mridul Chaudhary",
      "userId": "01592793057690041972"
     },
     "user_tz": -330
    },
    "id": "Eeqxmc1aOxTb",
    "outputId": "b48d1afa-3cd0-4b16-f51b-b8a76e9fcddf",
    "papermill": {
     "duration": null,
     "end_time": null,
     "exception": null,
     "start_time": null,
     "status": "pending"
    },
    "tags": []
   },
   "outputs": [],
   "source": [
    "mean_squared_error(val_targets,val_preds,squared = False)"
   ]
  },
  {
   "cell_type": "markdown",
   "id": "bca68f32",
   "metadata": {
    "id": "2caLrfHJOxV7",
    "papermill": {
     "duration": null,
     "end_time": null,
     "exception": null,
     "start_time": null,
     "status": "pending"
    },
    "tags": []
   },
   "source": [
    "The linear regression model is off by $9.898, which isn't much better than simply predicting the average.\n",
    "\n",
    "This is mainly because the training data (geocoordinates) is not in a format that's useful for the model, and we're not using one of the most important columns: pickup date & time.\n",
    "\n",
    "However, now we have a baseline that our other models should ideally beat."
   ]
  },
  {
   "cell_type": "markdown",
   "id": "9b6bed37",
   "metadata": {
    "id": "cCblLIctOxYQ",
    "papermill": {
     "duration": null,
     "end_time": null,
     "exception": null,
     "start_time": null,
     "status": "pending"
    },
    "tags": []
   },
   "source": [
    "## 5. Make Predictions and Submit to Kaggle\n",
    "\n",
    "- Make predictions for test set\n",
    "- Generate submissions CSV\n",
    "- Submit to Kaggle\n",
    "- Record in experiment tracking sheet"
   ]
  },
  {
   "cell_type": "code",
   "execution_count": null,
   "id": "0d9c3e9c",
   "metadata": {
    "executionInfo": {
     "elapsed": 7,
     "status": "ok",
     "timestamp": 1723795681994,
     "user": {
      "displayName": "Mridul Chaudhary",
      "userId": "01592793057690041972"
     },
     "user_tz": -330
    },
    "id": "1j4DM0ccOxaz",
    "outputId": "e18218c6-d8b3-4feb-da1d-1e8d3d4d0dab",
    "papermill": {
     "duration": null,
     "end_time": null,
     "exception": null,
     "start_time": null,
     "status": "pending"
    },
    "tags": []
   },
   "outputs": [],
   "source": [
    "test_inputs"
   ]
  },
  {
   "cell_type": "code",
   "execution_count": null,
   "id": "7c941da9",
   "metadata": {
    "executionInfo": {
     "elapsed": 6,
     "status": "ok",
     "timestamp": 1723795681995,
     "user": {
      "displayName": "Mridul Chaudhary",
      "userId": "01592793057690041972"
     },
     "user_tz": -330
    },
    "id": "zOPUJ05MOxdF",
    "papermill": {
     "duration": null,
     "end_time": null,
     "exception": null,
     "start_time": null,
     "status": "pending"
    },
    "tags": []
   },
   "outputs": [],
   "source": [
    "test_preds = linear_model.predict(test_inputs)"
   ]
  },
  {
   "cell_type": "code",
   "execution_count": null,
   "id": "765e0eaa",
   "metadata": {
    "executionInfo": {
     "elapsed": 6,
     "status": "ok",
     "timestamp": 1723795681995,
     "user": {
      "displayName": "Mridul Chaudhary",
      "userId": "01592793057690041972"
     },
     "user_tz": -330
    },
    "id": "bd_mik5aOxfy",
    "outputId": "1917ef46-005b-4d51-edac-a47f8a92fcfd",
    "papermill": {
     "duration": null,
     "end_time": null,
     "exception": null,
     "start_time": null,
     "status": "pending"
    },
    "tags": []
   },
   "outputs": [],
   "source": [
    "submission_df = pd.read_csv(data_dir+'/sample_submission.csv')\n",
    "submission_df"
   ]
  },
  {
   "cell_type": "code",
   "execution_count": null,
   "id": "b019a73d",
   "metadata": {
    "executionInfo": {
     "elapsed": 5,
     "status": "ok",
     "timestamp": 1723795682628,
     "user": {
      "displayName": "Mridul Chaudhary",
      "userId": "01592793057690041972"
     },
     "user_tz": -330
    },
    "id": "IJ3PCTkKOxja",
    "papermill": {
     "duration": null,
     "end_time": null,
     "exception": null,
     "start_time": null,
     "status": "pending"
    },
    "tags": []
   },
   "outputs": [],
   "source": [
    "def generate_submission(test_preds,fname):\n",
    "  sub_df = pd.read_csv(data_dir+'/sample_submission.csv')\n",
    "  sub_df['fare_amount'] = test_preds\n",
    "  sub_df.to_csv(fname,index = None)"
   ]
  },
  {
   "cell_type": "code",
   "execution_count": null,
   "id": "19062060",
   "metadata": {
    "executionInfo": {
     "elapsed": 4,
     "status": "ok",
     "timestamp": 1723795682628,
     "user": {
      "displayName": "Mridul Chaudhary",
      "userId": "01592793057690041972"
     },
     "user_tz": -330
    },
    "id": "oR048yAfRVns",
    "papermill": {
     "duration": null,
     "end_time": null,
     "exception": null,
     "start_time": null,
     "status": "pending"
    },
    "tags": []
   },
   "outputs": [],
   "source": [
    "# generate_submission(test_preds,'linear_submission.csv')"
   ]
  },
  {
   "cell_type": "markdown",
   "id": "3afc1974",
   "metadata": {
    "id": "jicnVtnPRVqD",
    "papermill": {
     "duration": null,
     "end_time": null,
     "exception": null,
     "start_time": null,
     "status": "pending"
    },
    "tags": []
   },
   "source": [
    "![](https://i.imgur.com/DfCLCrE.png)"
   ]
  },
  {
   "cell_type": "markdown",
   "id": "7d640acf",
   "metadata": {
    "id": "JOo1eWECRVtH",
    "papermill": {
     "duration": null,
     "end_time": null,
     "exception": null,
     "start_time": null,
     "status": "pending"
    },
    "tags": []
   },
   "source": [
    "## 6. Feature Engineering\n",
    "\n",
    "\n",
    "- Extract parts of date\n",
    "- Remove outliers & invalid data\n",
    "- Add distance between pickup & drop\n",
    "- Add distance from landmarks\n",
    "\n",
    "Exercise: We're going to apply all of the above together, but you should observer the effect of adding each feature individually."
   ]
  },
  {
   "cell_type": "markdown",
   "id": "fcda0721",
   "metadata": {
    "id": "8OYo34h6AaSn",
    "papermill": {
     "duration": null,
     "end_time": null,
     "exception": null,
     "start_time": null,
     "status": "pending"
    },
    "tags": []
   },
   "source": [
    "### Extract Parts of Date\n",
    "\n",
    "- Year\n",
    "- Month\n",
    "- Day\n",
    "- Weekday\n",
    "- Hour\n"
   ]
  },
  {
   "cell_type": "code",
   "execution_count": null,
   "id": "e0db4a69",
   "metadata": {
    "executionInfo": {
     "elapsed": 441,
     "status": "ok",
     "timestamp": 1723795862489,
     "user": {
      "displayName": "Mridul Chaudhary",
      "userId": "01592793057690041972"
     },
     "user_tz": -330
    },
    "id": "LcYpnulRAaVX",
    "papermill": {
     "duration": null,
     "end_time": null,
     "exception": null,
     "start_time": null,
     "status": "pending"
    },
    "tags": []
   },
   "outputs": [],
   "source": [
    "def add_dateparts(df,col):\n",
    "  df[col + '_year'] = df[col].dt.year\n",
    "  df[col + '_month'] = df[col].dt.month\n",
    "  df[col + '_day'] = df[col].dt.day\n",
    "  df[col + '_weekday']  = df[col].dt.weekday\n",
    "  df[col + '_hour'] = df[col].dt.hour"
   ]
  },
  {
   "cell_type": "code",
   "execution_count": null,
   "id": "fc5b74f1",
   "metadata": {
    "executionInfo": {
     "elapsed": 1171,
     "status": "ok",
     "timestamp": 1723795917655,
     "user": {
      "displayName": "Mridul Chaudhary",
      "userId": "01592793057690041972"
     },
     "user_tz": -330
    },
    "id": "mb0nSnzKAaYC",
    "papermill": {
     "duration": null,
     "end_time": null,
     "exception": null,
     "start_time": null,
     "status": "pending"
    },
    "tags": []
   },
   "outputs": [],
   "source": [
    "add_dateparts(train_df,'pickup_datetime')"
   ]
  },
  {
   "cell_type": "code",
   "execution_count": null,
   "id": "804ef74c",
   "metadata": {
    "executionInfo": {
     "elapsed": 422,
     "status": "ok",
     "timestamp": 1723795925353,
     "user": {
      "displayName": "Mridul Chaudhary",
      "userId": "01592793057690041972"
     },
     "user_tz": -330
    },
    "id": "TFZICW-8AabR",
    "papermill": {
     "duration": null,
     "end_time": null,
     "exception": null,
     "start_time": null,
     "status": "pending"
    },
    "tags": []
   },
   "outputs": [],
   "source": [
    "add_dateparts(val_df,'pickup_datetime')"
   ]
  },
  {
   "cell_type": "code",
   "execution_count": null,
   "id": "60c5fb19",
   "metadata": {
    "executionInfo": {
     "elapsed": 419,
     "status": "ok",
     "timestamp": 1723795943226,
     "user": {
      "displayName": "Mridul Chaudhary",
      "userId": "01592793057690041972"
     },
     "user_tz": -330
    },
    "id": "S1aB0qWdPmTo",
    "papermill": {
     "duration": null,
     "end_time": null,
     "exception": null,
     "start_time": null,
     "status": "pending"
    },
    "tags": []
   },
   "outputs": [],
   "source": [
    "add_dateparts(test_df,'pickup_datetime')"
   ]
  },
  {
   "cell_type": "code",
   "execution_count": null,
   "id": "f8c6352b",
   "metadata": {
    "executionInfo": {
     "elapsed": 1830,
     "status": "ok",
     "timestamp": 1723798653942,
     "user": {
      "displayName": "Mridul Chaudhary",
      "userId": "01592793057690041972"
     },
     "user_tz": -330
    },
    "id": "nRs32q3sPqq7",
    "outputId": "7f7f13a1-7b3b-4171-ebc5-b313a5d39983",
    "papermill": {
     "duration": null,
     "end_time": null,
     "exception": null,
     "start_time": null,
     "status": "pending"
    },
    "tags": []
   },
   "outputs": [],
   "source": [
    "train_df"
   ]
  },
  {
   "cell_type": "markdown",
   "id": "df6d4f48",
   "metadata": {
    "id": "diJhe3E5PsjM",
    "papermill": {
     "duration": null,
     "end_time": null,
     "exception": null,
     "start_time": null,
     "status": "pending"
    },
    "tags": []
   },
   "source": [
    "### Add Distance Between Pickup and Drop\n",
    "\n",
    "We can use the haversine distance:\n",
    "- https://en.wikipedia.org/wiki/Haversine_formula\n",
    "- https://stackoverflow.com/questions/29545704/fast-haversine-approximation-python-pandas"
   ]
  },
  {
   "cell_type": "code",
   "execution_count": null,
   "id": "57225c6f",
   "metadata": {
    "executionInfo": {
     "elapsed": 781,
     "status": "ok",
     "timestamp": 1723799034676,
     "user": {
      "displayName": "Mridul Chaudhary",
      "userId": "01592793057690041972"
     },
     "user_tz": -330
    },
    "id": "f0KYJfa4baGv",
    "papermill": {
     "duration": null,
     "end_time": null,
     "exception": null,
     "start_time": null,
     "status": "pending"
    },
    "tags": []
   },
   "outputs": [],
   "source": [
    "import numpy as np\n",
    "\n",
    "def haversine_np(lon1, lat1, lon2, lat2):\n",
    "    \"\"\"\n",
    "    Calculate the great circle distance between two points\n",
    "    on the earth (specified in decimal degrees)\n",
    "\n",
    "    All args must be of equal length.\n",
    "\n",
    "    \"\"\"\n",
    "    lon1, lat1, lon2, lat2 = map(np.radians, [lon1, lat1, lon2, lat2])\n",
    "\n",
    "    dlon = lon2 - lon1\n",
    "    dlat = lat2 - lat1\n",
    "\n",
    "    a = np.sin(dlat/2.0)**2 + np.cos(lat1) * np.cos(lat2) * np.sin(dlon/2.0)**2\n",
    "\n",
    "    c = 2 * np.arcsin(np.sqrt(a))\n",
    "    km = 6367 * c\n",
    "    return km"
   ]
  },
  {
   "cell_type": "code",
   "execution_count": null,
   "id": "a9d9a8c5",
   "metadata": {
    "executionInfo": {
     "elapsed": 525,
     "status": "ok",
     "timestamp": 1723799331949,
     "user": {
      "displayName": "Mridul Chaudhary",
      "userId": "01592793057690041972"
     },
     "user_tz": -330
    },
    "id": "Z782XQbzbaI4",
    "papermill": {
     "duration": null,
     "end_time": null,
     "exception": null,
     "start_time": null,
     "status": "pending"
    },
    "tags": []
   },
   "outputs": [],
   "source": [
    "def add_trip_distance(df):\n",
    "  df['trip_distance'] = haversine_np(df['pickup_longitude'], df['pickup_latitude'], df['dropoff_longitude'], df['dropoff_latitude'])"
   ]
  },
  {
   "cell_type": "code",
   "execution_count": null,
   "id": "66881994",
   "metadata": {
    "executionInfo": {
     "elapsed": 4,
     "status": "ok",
     "timestamp": 1723799333394,
     "user": {
      "displayName": "Mridul Chaudhary",
      "userId": "01592793057690041972"
     },
     "user_tz": -330
    },
    "id": "aBZdnQ4VbaMP",
    "outputId": "19d664d3-0271-409d-f95c-b25239c41fb1",
    "papermill": {
     "duration": null,
     "end_time": null,
     "exception": null,
     "start_time": null,
     "status": "pending"
    },
    "tags": []
   },
   "outputs": [],
   "source": [
    "%%time\n",
    "add_trip_distance(train_df)"
   ]
  },
  {
   "cell_type": "code",
   "execution_count": null,
   "id": "c6428ff2",
   "metadata": {
    "executionInfo": {
     "elapsed": 2,
     "status": "ok",
     "timestamp": 1723799355806,
     "user": {
      "displayName": "Mridul Chaudhary",
      "userId": "01592793057690041972"
     },
     "user_tz": -330
    },
    "id": "qHtcigy7ceyf",
    "papermill": {
     "duration": null,
     "end_time": null,
     "exception": null,
     "start_time": null,
     "status": "pending"
    },
    "tags": []
   },
   "outputs": [],
   "source": [
    "add_trip_distance(val_df)"
   ]
  },
  {
   "cell_type": "code",
   "execution_count": null,
   "id": "bf5828fe",
   "metadata": {
    "executionInfo": {
     "elapsed": 462,
     "status": "ok",
     "timestamp": 1723799364715,
     "user": {
      "displayName": "Mridul Chaudhary",
      "userId": "01592793057690041972"
     },
     "user_tz": -330
    },
    "id": "Nj-ZJE9XcrJR",
    "papermill": {
     "duration": null,
     "end_time": null,
     "exception": null,
     "start_time": null,
     "status": "pending"
    },
    "tags": []
   },
   "outputs": [],
   "source": [
    "add_trip_distance(test_df)"
   ]
  },
  {
   "cell_type": "code",
   "execution_count": null,
   "id": "ffa75d14",
   "metadata": {
    "executionInfo": {
     "elapsed": 743,
     "status": "ok",
     "timestamp": 1723799374635,
     "user": {
      "displayName": "Mridul Chaudhary",
      "userId": "01592793057690041972"
     },
     "user_tz": -330
    },
    "id": "kzjJ2Gdzct-9",
    "outputId": "a8c262ab-e3ac-4529-a4d4-5b92e923d35a",
    "papermill": {
     "duration": null,
     "end_time": null,
     "exception": null,
     "start_time": null,
     "status": "pending"
    },
    "tags": []
   },
   "outputs": [],
   "source": [
    "train_df.sample(5)"
   ]
  },
  {
   "cell_type": "markdown",
   "id": "ee2183d5",
   "metadata": {
    "id": "5e7eXHuIcwSh",
    "papermill": {
     "duration": null,
     "end_time": null,
     "exception": null,
     "start_time": null,
     "status": "pending"
    },
    "tags": []
   },
   "source": [
    "### Add Distance From Popular Landmarks\n",
    "\n",
    "- JFK Airport\n",
    "- LGA Airport\n",
    "- EWR Airport\n",
    "- Times Square\n",
    "- Met Meuseum\n",
    "- World Trade Center\n",
    "\n",
    "We'll add the distance from drop location."
   ]
  },
  {
   "cell_type": "code",
   "execution_count": null,
   "id": "d1ed171d",
   "metadata": {
    "executionInfo": {
     "elapsed": 511,
     "status": "ok",
     "timestamp": 1723799536445,
     "user": {
      "displayName": "Mridul Chaudhary",
      "userId": "01592793057690041972"
     },
     "user_tz": -330
    },
    "id": "MeAvVbQkc1uS",
    "papermill": {
     "duration": null,
     "end_time": null,
     "exception": null,
     "start_time": null,
     "status": "pending"
    },
    "tags": []
   },
   "outputs": [],
   "source": [
    "jfk_lonlat = -73.7781, 40.6413\n",
    "lga_lonlat = -73.8740, 40.7769\n",
    "ewr_lonlat = -74.1745, 40.6895\n",
    "met_lonlat = -73.9632, 40.7794\n",
    "wtc_lonlat = -74.0099, 40.7126"
   ]
  },
  {
   "cell_type": "code",
   "execution_count": null,
   "id": "0d2a7340",
   "metadata": {
    "executionInfo": {
     "elapsed": 511,
     "status": "ok",
     "timestamp": 1723799740181,
     "user": {
      "displayName": "Mridul Chaudhary",
      "userId": "01592793057690041972"
     },
     "user_tz": -330
    },
    "id": "ZVvYCbyZc1w2",
    "papermill": {
     "duration": null,
     "end_time": null,
     "exception": null,
     "start_time": null,
     "status": "pending"
    },
    "tags": []
   },
   "outputs": [],
   "source": [
    " def add_landmark_dropoff_distance(df, landmark_name, landmark_lonlat):\n",
    "    lon, lat = landmark_lonlat\n",
    "    df[landmark_name + '_drop_distance'] = haversine_np(lon, lat, df['dropoff_longitude'], df['dropoff_latitude'])"
   ]
  },
  {
   "cell_type": "code",
   "execution_count": null,
   "id": "c7925707",
   "metadata": {
    "executionInfo": {
     "elapsed": 918,
     "status": "ok",
     "timestamp": 1723799887068,
     "user": {
      "displayName": "Mridul Chaudhary",
      "userId": "01592793057690041972"
     },
     "user_tz": -330
    },
    "id": "Vy4SBfbtc1y-",
    "outputId": "e072f3eb-3505-4d8f-a1c7-9cb907f8a5bd",
    "papermill": {
     "duration": null,
     "end_time": null,
     "exception": null,
     "start_time": null,
     "status": "pending"
    },
    "tags": []
   },
   "outputs": [],
   "source": [
    "%%time\n",
    "for a_df in [train_df, val_df, test_df]:\n",
    "    for name, lonlat in [('jfk', jfk_lonlat), ('lga', lga_lonlat), ('ewr', ewr_lonlat), ('met', met_lonlat), ('wtc', wtc_lonlat)]:\n",
    "        add_landmark_dropoff_distance(a_df, name, lonlat)"
   ]
  },
  {
   "cell_type": "code",
   "execution_count": null,
   "id": "aa125c9b",
   "metadata": {
    "executionInfo": {
     "elapsed": 513,
     "status": "ok",
     "timestamp": 1723799939092,
     "user": {
      "displayName": "Mridul Chaudhary",
      "userId": "01592793057690041972"
     },
     "user_tz": -330
    },
    "id": "_PO8UGBMc11b",
    "outputId": "0060a7b4-5336-4ec2-825f-726a5121bb8d",
    "papermill": {
     "duration": null,
     "end_time": null,
     "exception": null,
     "start_time": null,
     "status": "pending"
    },
    "tags": []
   },
   "outputs": [],
   "source": [
    "train_df.sample(5)"
   ]
  },
  {
   "cell_type": "markdown",
   "id": "304ec258",
   "metadata": {
    "id": "i7KRqD7vc14K",
    "papermill": {
     "duration": null,
     "end_time": null,
     "exception": null,
     "start_time": null,
     "status": "pending"
    },
    "tags": []
   },
   "source": [
    "### Remove Outliers and Invalid Data\n",
    "\n",
    "There seems to be some invalide data in each of the following columns:\n",
    "\n",
    "- Fare amount\n",
    "- Passenger count\n",
    "- Pickup latitude & longitude\n",
    "- Drop latitude & longitude"
   ]
  },
  {
   "cell_type": "code",
   "execution_count": null,
   "id": "ecd31741",
   "metadata": {
    "executionInfo": {
     "elapsed": 2648,
     "status": "ok",
     "timestamp": 1723800004823,
     "user": {
      "displayName": "Mridul Chaudhary",
      "userId": "01592793057690041972"
     },
     "user_tz": -330
    },
    "id": "GhOprrAFc160",
    "outputId": "ba91c62d-765e-4f72-9603-9011d0bdd281",
    "papermill": {
     "duration": null,
     "end_time": null,
     "exception": null,
     "start_time": null,
     "status": "pending"
    },
    "tags": []
   },
   "outputs": [],
   "source": [
    "train_df.describe()"
   ]
  },
  {
   "cell_type": "code",
   "execution_count": null,
   "id": "28521994",
   "metadata": {
    "executionInfo": {
     "elapsed": 965,
     "status": "ok",
     "timestamp": 1723800030321,
     "user": {
      "displayName": "Mridul Chaudhary",
      "userId": "01592793057690041972"
     },
     "user_tz": -330
    },
    "id": "2ZMBhV3nc180",
    "outputId": "c9ec2f7e-f694-4402-84d9-25fea4044b23",
    "papermill": {
     "duration": null,
     "end_time": null,
     "exception": null,
     "start_time": null,
     "status": "pending"
    },
    "tags": []
   },
   "outputs": [],
   "source": [
    "test_df.describe()"
   ]
  },
  {
   "cell_type": "markdown",
   "id": "6d199e9b",
   "metadata": {
    "id": "iF1ttVkifKJE",
    "papermill": {
     "duration": null,
     "end_time": null,
     "exception": null,
     "start_time": null,
     "status": "pending"
    },
    "tags": []
   },
   "source": [
    "We'll use the following ranges:\n",
    "\n",
    "- `fare_amount`: \\$1 to \\$500\n",
    "- `longitudes`: -75 to -72\n",
    "- `latitudes`: 40 to 42\n",
    "- `passenger_count`: 1 to 6"
   ]
  },
  {
   "cell_type": "code",
   "execution_count": null,
   "id": "17f49e58",
   "metadata": {
    "executionInfo": {
     "elapsed": 507,
     "status": "ok",
     "timestamp": 1723800229914,
     "user": {
      "displayName": "Mridul Chaudhary",
      "userId": "01592793057690041972"
     },
     "user_tz": -330
    },
    "id": "XDYPcDOHfKLh",
    "papermill": {
     "duration": null,
     "end_time": null,
     "exception": null,
     "start_time": null,
     "status": "pending"
    },
    "tags": []
   },
   "outputs": [],
   "source": [
    "def remove_outliers(df):\n",
    "    return df[(df['fare_amount'] >= 1.) &\n",
    "              (df['fare_amount'] <= 500.) &\n",
    "              (df['pickup_longitude'] >= -75) &\n",
    "              (df['pickup_longitude'] <= -72) &\n",
    "              (df['dropoff_longitude'] >= -75) &\n",
    "              (df['dropoff_longitude'] <= -72) &\n",
    "              (df['pickup_latitude'] >= 40) &\n",
    "              (df['pickup_latitude'] <= 42) &\n",
    "              (df['dropoff_latitude'] >=40) &\n",
    "              (df['dropoff_latitude'] <= 42) &\n",
    "              (df['passenger_count'] >= 1) &\n",
    "              (df['passenger_count'] <= 6)]"
   ]
  },
  {
   "cell_type": "code",
   "execution_count": null,
   "id": "c07f155c",
   "metadata": {
    "executionInfo": {
     "elapsed": 419,
     "status": "ok",
     "timestamp": 1723800300876,
     "user": {
      "displayName": "Mridul Chaudhary",
      "userId": "01592793057690041972"
     },
     "user_tz": -330
    },
    "id": "C2zmMo2wfKN4",
    "papermill": {
     "duration": null,
     "end_time": null,
     "exception": null,
     "start_time": null,
     "status": "pending"
    },
    "tags": []
   },
   "outputs": [],
   "source": [
    "train_df = remove_outliers(train_df)"
   ]
  },
  {
   "cell_type": "code",
   "execution_count": null,
   "id": "86d12067",
   "metadata": {
    "executionInfo": {
     "elapsed": 452,
     "status": "ok",
     "timestamp": 1723800309929,
     "user": {
      "displayName": "Mridul Chaudhary",
      "userId": "01592793057690041972"
     },
     "user_tz": -330
    },
    "id": "PEU-UXf6fKQH",
    "papermill": {
     "duration": null,
     "end_time": null,
     "exception": null,
     "start_time": null,
     "status": "pending"
    },
    "tags": []
   },
   "outputs": [],
   "source": [
    "val_df = remove_outliers(val_df)"
   ]
  },
  {
   "cell_type": "markdown",
   "id": "45680eb5",
   "metadata": {
    "id": "P-dky0PKfKSt",
    "papermill": {
     "duration": null,
     "end_time": null,
     "exception": null,
     "start_time": null,
     "status": "pending"
    },
    "tags": []
   },
   "source": [
    "### Scaling and One-Hot Encoding\n",
    "\n",
    "**Exercise**: Try scaling numeric columns to the `(0,1)` range and encoding categorical columns using a one-hot encoder.\n",
    "\n",
    "We won't do this because we'll be training tree-based models which are generally able to do a good job even without the above."
   ]
  },
  {
   "cell_type": "code",
   "execution_count": null,
   "id": "f9f14517",
   "metadata": {
    "executionInfo": {
     "elapsed": 2017,
     "status": "ok",
     "timestamp": 1723800450259,
     "user": {
      "displayName": "Mridul Chaudhary",
      "userId": "01592793057690041972"
     },
     "user_tz": -330
    },
    "id": "IyoHJIdQfKVK",
    "papermill": {
     "duration": null,
     "end_time": null,
     "exception": null,
     "start_time": null,
     "status": "pending"
    },
    "tags": []
   },
   "outputs": [],
   "source": [
    "train_df.to_parquet('train.parquet')"
   ]
  },
  {
   "cell_type": "code",
   "execution_count": null,
   "id": "f2d29cfd",
   "metadata": {
    "executionInfo": {
     "elapsed": 441,
     "status": "ok",
     "timestamp": 1723800452361,
     "user": {
      "displayName": "Mridul Chaudhary",
      "userId": "01592793057690041972"
     },
     "user_tz": -330
    },
    "id": "f5KoH0gufKXj",
    "papermill": {
     "duration": null,
     "end_time": null,
     "exception": null,
     "start_time": null,
     "status": "pending"
    },
    "tags": []
   },
   "outputs": [],
   "source": [
    "val_df.to_parquet('val.parquet')"
   ]
  },
  {
   "cell_type": "code",
   "execution_count": null,
   "id": "b38294a5",
   "metadata": {
    "executionInfo": {
     "elapsed": 441,
     "status": "ok",
     "timestamp": 1723800456267,
     "user": {
      "displayName": "Mridul Chaudhary",
      "userId": "01592793057690041972"
     },
     "user_tz": -330
    },
    "id": "gkeQnD6dfKaY",
    "papermill": {
     "duration": null,
     "end_time": null,
     "exception": null,
     "start_time": null,
     "status": "pending"
    },
    "tags": []
   },
   "outputs": [],
   "source": [
    "test_df.to_parquet('test.parquet')"
   ]
  },
  {
   "cell_type": "markdown",
   "id": "25a515a0",
   "metadata": {
    "id": "OA8_t8bLfKcs",
    "papermill": {
     "duration": null,
     "end_time": null,
     "exception": null,
     "start_time": null,
     "status": "pending"
    },
    "tags": []
   },
   "source": [
    "## 7. Train & Evaluate Different Models\n",
    "\n",
    "We'll train each of the following & submit predictions to Kaggle:\n",
    "\n",
    "- Linear Regression\n",
    "- Random Forests\n",
    "- Gradient Boosting\n",
    "\n",
    "Exercise: Train Ridge, SVM, KNN, Decision Tree models"
   ]
  },
  {
   "cell_type": "code",
   "execution_count": null,
   "id": "f7a7cd92",
   "metadata": {
    "executionInfo": {
     "elapsed": 4,
     "status": "ok",
     "timestamp": 1723800602343,
     "user": {
      "displayName": "Mridul Chaudhary",
      "userId": "01592793057690041972"
     },
     "user_tz": -330
    },
    "id": "8KhE1DbzfKfB",
    "outputId": "20feca64-7228-48f2-c3e0-93fd7ffe66eb",
    "papermill": {
     "duration": null,
     "end_time": null,
     "exception": null,
     "start_time": null,
     "status": "pending"
    },
    "tags": []
   },
   "outputs": [],
   "source": [
    "train_df.columns"
   ]
  },
  {
   "cell_type": "code",
   "execution_count": null,
   "id": "7d1c4b87",
   "metadata": {
    "executionInfo": {
     "elapsed": 733,
     "status": "ok",
     "timestamp": 1723800634725,
     "user": {
      "displayName": "Mridul Chaudhary",
      "userId": "01592793057690041972"
     },
     "user_tz": -330
    },
    "id": "2ZO3Q4cbfKhO",
    "papermill": {
     "duration": null,
     "end_time": null,
     "exception": null,
     "start_time": null,
     "status": "pending"
    },
    "tags": []
   },
   "outputs": [],
   "source": [
    "input_cols = ['pickup_longitude', 'pickup_latitude',\n",
    "       'dropoff_longitude', 'dropoff_latitude', 'passenger_count',\n",
    "       'pickup_datetime_year', 'pickup_datetime_month', 'pickup_datetime_day',\n",
    "       'pickup_datetime_weekday', 'pickup_datetime_hour', 'trip_distance',\n",
    "       'jfk_drop_distance', 'lga_drop_distance', 'ewr_drop_distance',\n",
    "       'met_drop_distance', 'wtc_drop_distance']"
   ]
  },
  {
   "cell_type": "code",
   "execution_count": null,
   "id": "4ee52978",
   "metadata": {
    "executionInfo": {
     "elapsed": 438,
     "status": "ok",
     "timestamp": 1723800687679,
     "user": {
      "displayName": "Mridul Chaudhary",
      "userId": "01592793057690041972"
     },
     "user_tz": -330
    },
    "id": "Oeys1fwAhj0f",
    "papermill": {
     "duration": null,
     "end_time": null,
     "exception": null,
     "start_time": null,
     "status": "pending"
    },
    "tags": []
   },
   "outputs": [],
   "source": [
    "target_col = 'fare_amount'"
   ]
  },
  {
   "cell_type": "code",
   "execution_count": null,
   "id": "29fab508",
   "metadata": {
    "executionInfo": {
     "elapsed": 445,
     "status": "ok",
     "timestamp": 1723801190767,
     "user": {
      "displayName": "Mridul Chaudhary",
      "userId": "01592793057690041972"
     },
     "user_tz": -330
    },
    "id": "6Dwzspeohl15",
    "papermill": {
     "duration": null,
     "end_time": null,
     "exception": null,
     "start_time": null,
     "status": "pending"
    },
    "tags": []
   },
   "outputs": [],
   "source": [
    "train_inputs = train_df[input_cols]\n",
    "train_targets = train_df[target_col]"
   ]
  },
  {
   "cell_type": "code",
   "execution_count": null,
   "id": "67dad813",
   "metadata": {
    "executionInfo": {
     "elapsed": 750,
     "status": "ok",
     "timestamp": 1723800702662,
     "user": {
      "displayName": "Mridul Chaudhary",
      "userId": "01592793057690041972"
     },
     "user_tz": -330
    },
    "id": "DNXRg1e5huMz",
    "papermill": {
     "duration": null,
     "end_time": null,
     "exception": null,
     "start_time": null,
     "status": "pending"
    },
    "tags": []
   },
   "outputs": [],
   "source": [
    "val_inputs = val_df[input_cols]\n",
    "val_targets = val_df[target_col]"
   ]
  },
  {
   "cell_type": "code",
   "execution_count": null,
   "id": "09790819",
   "metadata": {
    "executionInfo": {
     "elapsed": 446,
     "status": "ok",
     "timestamp": 1723800706673,
     "user": {
      "displayName": "Mridul Chaudhary",
      "userId": "01592793057690041972"
     },
     "user_tz": -330
    },
    "id": "tXTfeVHDh0ky",
    "papermill": {
     "duration": null,
     "end_time": null,
     "exception": null,
     "start_time": null,
     "status": "pending"
    },
    "tags": []
   },
   "outputs": [],
   "source": [
    "test_inputs = test_df[input_cols]"
   ]
  },
  {
   "cell_type": "code",
   "execution_count": null,
   "id": "c7c61424",
   "metadata": {
    "executionInfo": {
     "elapsed": 712,
     "status": "ok",
     "timestamp": 1723800876965,
     "user": {
      "displayName": "Mridul Chaudhary",
      "userId": "01592793057690041972"
     },
     "user_tz": -330
    },
    "id": "1iLllUZBh1mf",
    "papermill": {
     "duration": null,
     "end_time": null,
     "exception": null,
     "start_time": null,
     "status": "pending"
    },
    "tags": []
   },
   "outputs": [],
   "source": [
    "def evaluate(model):\n",
    "  train_preds = model.predict(train_inputs)\n",
    "  train_rmse = mean_squared_error(train_targets,train_preds,squared = False)\n",
    "  val_preds = model.predict(val_inputs)\n",
    "  val_rmse = mean_squared_error(val_targets,val_preds,squared = False)\n",
    "  return train_rmse , val_rmse , val_preds , val_preds"
   ]
  },
  {
   "cell_type": "code",
   "execution_count": null,
   "id": "dc6ea97b",
   "metadata": {
    "executionInfo": {
     "elapsed": 455,
     "status": "ok",
     "timestamp": 1723801360834,
     "user": {
      "displayName": "Mridul Chaudhary",
      "userId": "01592793057690041972"
     },
     "user_tz": -330
    },
    "id": "REXgpz50ifHm",
    "papermill": {
     "duration": null,
     "end_time": null,
     "exception": null,
     "start_time": null,
     "status": "pending"
    },
    "tags": []
   },
   "outputs": [],
   "source": [
    "def predict_and_submit(model, fname):\n",
    "    test_preds = model.predict(test_inputs)\n",
    "    sub_df = pd.read_csv(data_dir+'/sample_submission.csv')\n",
    "    sub_df['fare_amount'] = test_preds\n",
    "    sub_df.to_csv(fname, index=None)\n",
    "    return sub_df"
   ]
  },
  {
   "cell_type": "markdown",
   "id": "6d2c97e1",
   "metadata": {
    "id": "oIJcDJsuiiMk",
    "papermill": {
     "duration": null,
     "end_time": null,
     "exception": null,
     "start_time": null,
     "status": "pending"
    },
    "tags": []
   },
   "source": [
    "### Ridge Regression"
   ]
  },
  {
   "cell_type": "code",
   "execution_count": null,
   "id": "0ec9fa58",
   "metadata": {
    "executionInfo": {
     "elapsed": 4,
     "status": "ok",
     "timestamp": 1723800918879,
     "user": {
      "displayName": "Mridul Chaudhary",
      "userId": "01592793057690041972"
     },
     "user_tz": -330
    },
    "id": "LMAODJ4jiiPF",
    "papermill": {
     "duration": null,
     "end_time": null,
     "exception": null,
     "start_time": null,
     "status": "pending"
    },
    "tags": []
   },
   "outputs": [],
   "source": [
    "from sklearn.linear_model import Ridge"
   ]
  },
  {
   "cell_type": "code",
   "execution_count": null,
   "id": "c42342b7",
   "metadata": {
    "executionInfo": {
     "elapsed": 435,
     "status": "ok",
     "timestamp": 1723800977121,
     "user": {
      "displayName": "Mridul Chaudhary",
      "userId": "01592793057690041972"
     },
     "user_tz": -330
    },
    "id": "MMxy7PQwiiTW",
    "papermill": {
     "duration": null,
     "end_time": null,
     "exception": null,
     "start_time": null,
     "status": "pending"
    },
    "tags": []
   },
   "outputs": [],
   "source": [
    "model1 = Ridge(random_state = 42, alpha = 0.9)"
   ]
  },
  {
   "cell_type": "code",
   "execution_count": null,
   "id": "08b8ecb9",
   "metadata": {
    "executionInfo": {
     "elapsed": 520,
     "status": "ok",
     "timestamp": 1723801198933,
     "user": {
      "displayName": "Mridul Chaudhary",
      "userId": "01592793057690041972"
     },
     "user_tz": -330
    },
    "id": "8zDAyILQiiYa",
    "outputId": "99c2ffd1-1d69-4b43-c7a7-ed662f34431f",
    "papermill": {
     "duration": null,
     "end_time": null,
     "exception": null,
     "start_time": null,
     "status": "pending"
    },
    "tags": []
   },
   "outputs": [],
   "source": [
    "model1.fit(train_inputs,train_targets)"
   ]
  },
  {
   "cell_type": "code",
   "execution_count": null,
   "id": "83e7817a",
   "metadata": {
    "executionInfo": {
     "elapsed": 614,
     "status": "ok",
     "timestamp": 1723801227299,
     "user": {
      "displayName": "Mridul Chaudhary",
      "userId": "01592793057690041972"
     },
     "user_tz": -330
    },
    "id": "CdRga0vEjD7x",
    "outputId": "16e4152b-94ef-4ff3-fb54-5f479cab6dce",
    "papermill": {
     "duration": null,
     "end_time": null,
     "exception": null,
     "start_time": null,
     "status": "pending"
    },
    "tags": []
   },
   "outputs": [],
   "source": [
    "evaluate(model1)"
   ]
  },
  {
   "cell_type": "code",
   "execution_count": null,
   "id": "e5c8f6ac",
   "metadata": {
    "executionInfo": {
     "elapsed": 744,
     "status": "ok",
     "timestamp": 1723801372419,
     "user": {
      "displayName": "Mridul Chaudhary",
      "userId": "01592793057690041972"
     },
     "user_tz": -330
    },
    "id": "yDERc2tRjAai",
    "outputId": "8a249120-8d0e-4d6e-bdb8-80fcadec01d5",
    "papermill": {
     "duration": null,
     "end_time": null,
     "exception": null,
     "start_time": null,
     "status": "pending"
    },
    "tags": []
   },
   "outputs": [],
   "source": [
    "predict_and_submit(model1, 'ridge_submission.csv')"
   ]
  },
  {
   "cell_type": "markdown",
   "id": "5e8dc575",
   "metadata": {
    "id": "tttobymqjF2l",
    "papermill": {
     "duration": null,
     "end_time": null,
     "exception": null,
     "start_time": null,
     "status": "pending"
    },
    "tags": []
   },
   "source": [
    "### Random Forest\n",
    "\n",
    "https://scikit-learn.org/stable/modules/generated/sklearn.ensemble.RandomForestRegressor.html"
   ]
  },
  {
   "cell_type": "code",
   "execution_count": null,
   "id": "d9a0bf4d",
   "metadata": {
    "executionInfo": {
     "elapsed": 752,
     "status": "ok",
     "timestamp": 1723801696848,
     "user": {
      "displayName": "Mridul Chaudhary",
      "userId": "01592793057690041972"
     },
     "user_tz": -330
    },
    "id": "hhPSZjMIlgKB",
    "papermill": {
     "duration": null,
     "end_time": null,
     "exception": null,
     "start_time": null,
     "status": "pending"
    },
    "tags": []
   },
   "outputs": [],
   "source": [
    "from sklearn.ensemble import RandomForestRegressor"
   ]
  },
  {
   "cell_type": "code",
   "execution_count": null,
   "id": "9a547186",
   "metadata": {
    "executionInfo": {
     "elapsed": 2,
     "status": "ok",
     "timestamp": 1723801912260,
     "user": {
      "displayName": "Mridul Chaudhary",
      "userId": "01592793057690041972"
     },
     "user_tz": -330
    },
    "id": "dVvCkLoTlgMB",
    "papermill": {
     "duration": null,
     "end_time": null,
     "exception": null,
     "start_time": null,
     "status": "pending"
    },
    "tags": []
   },
   "outputs": [],
   "source": [
    "model2 = RandomForestRegressor(random_state = 42 , n_jobs = -1, max_depth = 10,n_estimators = 100)"
   ]
  },
  {
   "cell_type": "code",
   "execution_count": null,
   "id": "61b4913a",
   "metadata": {
    "executionInfo": {
     "elapsed": 825715,
     "status": "ok",
     "timestamp": 1723802739493,
     "user": {
      "displayName": "Mridul Chaudhary",
      "userId": "01592793057690041972"
     },
     "user_tz": -330
    },
    "id": "gToDzZESlgOO",
    "outputId": "a512ccc0-523d-45d1-fc4a-4c3a96466918",
    "papermill": {
     "duration": null,
     "end_time": null,
     "exception": null,
     "start_time": null,
     "status": "pending"
    },
    "tags": []
   },
   "outputs": [],
   "source": [
    "%%time\n",
    "model2.fit(train_inputs,train_targets)"
   ]
  },
  {
   "cell_type": "code",
   "execution_count": null,
   "id": "f05b20fc",
   "metadata": {
    "executionInfo": {
     "elapsed": 13585,
     "status": "ok",
     "timestamp": 1723802838643,
     "user": {
      "displayName": "Mridul Chaudhary",
      "userId": "01592793057690041972"
     },
     "user_tz": -330
    },
    "id": "R5s6LIJ1lgQi",
    "outputId": "d2de24af-e8ca-4377-c324-0f65828f23c0",
    "papermill": {
     "duration": null,
     "end_time": null,
     "exception": null,
     "start_time": null,
     "status": "pending"
    },
    "tags": []
   },
   "outputs": [],
   "source": [
    "evaluate(model2)"
   ]
  },
  {
   "cell_type": "code",
   "execution_count": null,
   "id": "083f870b",
   "metadata": {
    "executionInfo": {
     "elapsed": 1233,
     "status": "ok",
     "timestamp": 1723802862679,
     "user": {
      "displayName": "Mridul Chaudhary",
      "userId": "01592793057690041972"
     },
     "user_tz": -330
    },
    "id": "uinzmn5vlgS4",
    "outputId": "5edddcde-e970-425f-bdd8-b728f017b584",
    "papermill": {
     "duration": null,
     "end_time": null,
     "exception": null,
     "start_time": null,
     "status": "pending"
    },
    "tags": []
   },
   "outputs": [],
   "source": [
    "predict_and_submit(model2, 'rf_submission.csv')"
   ]
  },
  {
   "cell_type": "markdown",
   "id": "24786d55",
   "metadata": {
    "id": "ZS7SDUmZlgV3",
    "papermill": {
     "duration": null,
     "end_time": null,
     "exception": null,
     "start_time": null,
     "status": "pending"
    },
    "tags": []
   },
   "source": [
    "![](https://i.imgur.com/jyMniFW.png)\n",
    "\n",
    "This puts us at position 573 out of 1483 i.e. top 40%, which is already a really good score.\n",
    "\n",
    "Remember that we're only using 1% of the data, and we haven't done much hyperparameter tuning yet."
   ]
  },
  {
   "cell_type": "markdown",
   "id": "b00403a0",
   "metadata": {
    "id": "y-6zz87tqXhI",
    "papermill": {
     "duration": null,
     "end_time": null,
     "exception": null,
     "start_time": null,
     "status": "pending"
    },
    "tags": []
   },
   "source": [
    "### Gradient Boosting\n",
    "\n",
    "https://xgboost.readthedocs.io/en/latest/python/python_api.html#module-xgboost.sklearn"
   ]
  },
  {
   "cell_type": "code",
   "execution_count": null,
   "id": "4cb663a1",
   "metadata": {
    "executionInfo": {
     "elapsed": 1140,
     "status": "ok",
     "timestamp": 1723802959824,
     "user": {
      "displayName": "Mridul Chaudhary",
      "userId": "01592793057690041972"
     },
     "user_tz": -330
    },
    "id": "6L5L_l5nqXjo",
    "papermill": {
     "duration": null,
     "end_time": null,
     "exception": null,
     "start_time": null,
     "status": "pending"
    },
    "tags": []
   },
   "outputs": [],
   "source": [
    "from xgboost import XGBRegressor"
   ]
  },
  {
   "cell_type": "code",
   "execution_count": null,
   "id": "3670c97e",
   "metadata": {
    "executionInfo": {
     "elapsed": 476,
     "status": "ok",
     "timestamp": 1723802963273,
     "user": {
      "displayName": "Mridul Chaudhary",
      "userId": "01592793057690041972"
     },
     "user_tz": -330
    },
    "id": "fIO9plG2qXl-",
    "papermill": {
     "duration": null,
     "end_time": null,
     "exception": null,
     "start_time": null,
     "status": "pending"
    },
    "tags": []
   },
   "outputs": [],
   "source": [
    "model3 = XGBRegressor(random_state=42, n_jobs=-1, objective='reg:squarederror')"
   ]
  },
  {
   "cell_type": "code",
   "execution_count": null,
   "id": "53703b54",
   "metadata": {
    "executionInfo": {
     "elapsed": 18355,
     "status": "ok",
     "timestamp": 1723802996618,
     "user": {
      "displayName": "Mridul Chaudhary",
      "userId": "01592793057690041972"
     },
     "user_tz": -330
    },
    "id": "UDbRlrOkqXoa",
    "outputId": "c4b1cd15-67d4-442b-c0b8-e110aab52aa3",
    "papermill": {
     "duration": null,
     "end_time": null,
     "exception": null,
     "start_time": null,
     "status": "pending"
    },
    "tags": []
   },
   "outputs": [],
   "source": [
    "%%time\n",
    "model3.fit(train_inputs, train_targets)"
   ]
  },
  {
   "cell_type": "code",
   "execution_count": null,
   "id": "c24ec9a0",
   "metadata": {
    "executionInfo": {
     "elapsed": 3098,
     "status": "ok",
     "timestamp": 1723803535227,
     "user": {
      "displayName": "Mridul Chaudhary",
      "userId": "01592793057690041972"
     },
     "user_tz": -330
    },
    "id": "F_b5k3bLqXqs",
    "outputId": "7c2149aa-c34c-44f6-e450-bc443be36862",
    "papermill": {
     "duration": null,
     "end_time": null,
     "exception": null,
     "start_time": null,
     "status": "pending"
    },
    "tags": []
   },
   "outputs": [],
   "source": [
    "evaluate(model3)"
   ]
  },
  {
   "cell_type": "code",
   "execution_count": null,
   "id": "41a29c0c",
   "metadata": {
    "executionInfo": {
     "elapsed": 555,
     "status": "ok",
     "timestamp": 1723803543758,
     "user": {
      "displayName": "Mridul Chaudhary",
      "userId": "01592793057690041972"
     },
     "user_tz": -330
    },
    "id": "6ScMifZBsnhj",
    "outputId": "bb2602a8-9b62-45fe-b320-2c16db6a298c",
    "papermill": {
     "duration": null,
     "end_time": null,
     "exception": null,
     "start_time": null,
     "status": "pending"
    },
    "tags": []
   },
   "outputs": [],
   "source": [
    "predict_and_submit(model3, 'xgb_submission.csv')"
   ]
  },
  {
   "cell_type": "markdown",
   "id": "1914d47b",
   "metadata": {
    "id": "xnRJKfNusqPr",
    "papermill": {
     "duration": null,
     "end_time": null,
     "exception": null,
     "start_time": null,
     "status": "pending"
    },
    "tags": []
   },
   "source": [
    "## 8. Tune Hyperparmeters\n",
    "\n",
    "https://towardsdatascience.com/mastering-xgboost-2eb6bce6bc76\n",
    "\n",
    "\n",
    "We'll train parameters for the XGBoost model. Here’s a strategy for tuning hyperparameters:\n",
    "\n",
    "- Tune the most important/impactful hyperparameter first e.g. n_estimators\n",
    "\n",
    "- With the best value of the first hyperparameter, tune the next most impactful hyperparameter\n",
    "\n",
    "- And so on, keep training the next most impactful parameters with the best values for previous parameters...\n",
    "\n",
    "- Then, go back to the top and further tune each parameter again for further marginal gains\n",
    "\n",
    "- Hyperparameter tuning is more art than science, unfortunately. Try to get a feel for how the parameters interact with each other based on your understanding of the parameter…\n",
    "\n",
    "Let's define a helper function for trying different hyperparameters."
   ]
  },
  {
   "cell_type": "code",
   "execution_count": null,
   "id": "36ae421f",
   "metadata": {
    "executionInfo": {
     "elapsed": 3,
     "status": "ok",
     "timestamp": 1723803892900,
     "user": {
      "displayName": "Mridul Chaudhary",
      "userId": "01592793057690041972"
     },
     "user_tz": -330
    },
    "id": "QDdYMj44s-XX",
    "papermill": {
     "duration": null,
     "end_time": null,
     "exception": null,
     "start_time": null,
     "status": "pending"
    },
    "tags": []
   },
   "outputs": [],
   "source": [
    "import matplotlib.pyplot as plt\n",
    "\n",
    "def test_params(ModelClass, **params):\n",
    "    \"\"\"Trains a model with the given parameters and returns training & validation RMSE\"\"\"\n",
    "    model = ModelClass(**params).fit(train_inputs, train_targets)\n",
    "    train_rmse = mean_squared_error(model.predict(train_inputs), train_targets, squared=False)\n",
    "    val_rmse = mean_squared_error(model.predict(val_inputs), val_targets, squared=False)\n",
    "    return train_rmse, val_rmse\n",
    "\n",
    "def test_param_and_plot(ModelClass, param_name, param_values, **other_params):\n",
    "    \"\"\"Trains multiple models by varying the value of param_name according to param_values\"\"\"\n",
    "    train_errors, val_errors = [], []\n",
    "    for value in param_values:\n",
    "        params = dict(other_params)\n",
    "        params[param_name] = value\n",
    "        train_rmse, val_rmse = test_params(ModelClass, **params)\n",
    "        train_errors.append(train_rmse)\n",
    "        val_errors.append(val_rmse)\n",
    "\n",
    "    plt.figure(figsize=(10,6))\n",
    "    plt.title('Overfitting curve: ' + param_name)\n",
    "    plt.plot(param_values, train_errors, 'b-o')\n",
    "    plt.plot(param_values, val_errors, 'r-o')\n",
    "    plt.xlabel(param_name)\n",
    "    plt.ylabel('RMSE')\n",
    "    plt.legend(['Training', 'Validation'])"
   ]
  },
  {
   "cell_type": "code",
   "execution_count": null,
   "id": "033298da",
   "metadata": {
    "executionInfo": {
     "elapsed": 423,
     "status": "ok",
     "timestamp": 1723804093412,
     "user": {
      "displayName": "Mridul Chaudhary",
      "userId": "01592793057690041972"
     },
     "user_tz": -330
    },
    "id": "gU33r6nJs-aF",
    "papermill": {
     "duration": null,
     "end_time": null,
     "exception": null,
     "start_time": null,
     "status": "pending"
    },
    "tags": []
   },
   "outputs": [],
   "source": [
    "best_params = {\n",
    "    'random_state': 42,\n",
    "    'n_jobs': -1,\n",
    "    'objective': 'reg:squarederror',\n",
    "    'learning_rate': 0.05\n",
    "}"
   ]
  },
  {
   "cell_type": "markdown",
   "id": "d076544e",
   "metadata": {
    "id": "VqU44Dy6s-cd",
    "papermill": {
     "duration": null,
     "end_time": null,
     "exception": null,
     "start_time": null,
     "status": "pending"
    },
    "tags": []
   },
   "source": [
    "### No. of Trees"
   ]
  },
  {
   "cell_type": "code",
   "execution_count": null,
   "id": "9310f25e",
   "metadata": {
    "executionInfo": {
     "elapsed": 150181,
     "status": "ok",
     "timestamp": 1723804248393,
     "user": {
      "displayName": "Mridul Chaudhary",
      "userId": "01592793057690041972"
     },
     "user_tz": -330
    },
    "id": "BMMnzsdJs-fy",
    "outputId": "ea25f0fe-8841-485a-9010-2809ab0de435",
    "papermill": {
     "duration": null,
     "end_time": null,
     "exception": null,
     "start_time": null,
     "status": "pending"
    },
    "tags": []
   },
   "outputs": [],
   "source": [
    "%%time\n",
    "test_param_and_plot(XGBRegressor, 'n_estimators', [100, 250, 500], **best_params)"
   ]
  },
  {
   "cell_type": "markdown",
   "id": "efabb63c",
   "metadata": {
    "id": "s__oCdF3uFgB",
    "papermill": {
     "duration": null,
     "end_time": null,
     "exception": null,
     "start_time": null,
     "status": "pending"
    },
    "tags": []
   },
   "source": [
    "Seems like 500 estimators has the lowest validation loss. However, it also takes a long time. Let's stick with 250 for now."
   ]
  },
  {
   "cell_type": "code",
   "execution_count": null,
   "id": "6981c424",
   "metadata": {
    "executionInfo": {
     "elapsed": 472,
     "status": "ok",
     "timestamp": 1723804302153,
     "user": {
      "displayName": "Mridul Chaudhary",
      "userId": "01592793057690041972"
     },
     "user_tz": -330
    },
    "id": "28mJNcNVviQr",
    "papermill": {
     "duration": null,
     "end_time": null,
     "exception": null,
     "start_time": null,
     "status": "pending"
    },
    "tags": []
   },
   "outputs": [],
   "source": [
    "best_params['n_estimators'] = 250"
   ]
  },
  {
   "cell_type": "markdown",
   "id": "183fe72f",
   "metadata": {
    "id": "PA4R76JWviTp",
    "papermill": {
     "duration": null,
     "end_time": null,
     "exception": null,
     "start_time": null,
     "status": "pending"
    },
    "tags": []
   },
   "source": [
    "### Max Depth"
   ]
  },
  {
   "cell_type": "code",
   "execution_count": null,
   "id": "1f6afb7d",
   "metadata": {
    "executionInfo": {
     "elapsed": 109373,
     "status": "ok",
     "timestamp": 1723804437574,
     "user": {
      "displayName": "Mridul Chaudhary",
      "userId": "01592793057690041972"
     },
     "user_tz": -330
    },
    "id": "1ysnOHOMviWE",
    "outputId": "811e01e8-72d0-4a47-9a46-50b19fea4a53",
    "papermill": {
     "duration": null,
     "end_time": null,
     "exception": null,
     "start_time": null,
     "status": "pending"
    },
    "tags": []
   },
   "outputs": [],
   "source": [
    "%%time\n",
    "test_param_and_plot(XGBRegressor, 'max_depth', [3, 4, 5], **best_params)"
   ]
  },
  {
   "cell_type": "markdown",
   "id": "b9e95b85",
   "metadata": {
    "id": "TIYIbKydviYx",
    "papermill": {
     "duration": null,
     "end_time": null,
     "exception": null,
     "start_time": null,
     "status": "pending"
    },
    "tags": []
   },
   "source": [
    "Looks like a max depth of 5 is ideal."
   ]
  },
  {
   "cell_type": "code",
   "execution_count": null,
   "id": "4ce7e898",
   "metadata": {
    "executionInfo": {
     "elapsed": 518,
     "status": "ok",
     "timestamp": 1723804485087,
     "user": {
      "displayName": "Mridul Chaudhary",
      "userId": "01592793057690041972"
     },
     "user_tz": -330
    },
    "id": "4WlKwyZ9vicA",
    "papermill": {
     "duration": null,
     "end_time": null,
     "exception": null,
     "start_time": null,
     "status": "pending"
    },
    "tags": []
   },
   "outputs": [],
   "source": [
    "best_params['max_depth'] = 5"
   ]
  },
  {
   "cell_type": "markdown",
   "id": "f1a6f65e",
   "metadata": {
    "id": "nzQOFFmEwQEn",
    "papermill": {
     "duration": null,
     "end_time": null,
     "exception": null,
     "start_time": null,
     "status": "pending"
    },
    "tags": []
   },
   "source": [
    "### Learning Rate"
   ]
  },
  {
   "cell_type": "code",
   "execution_count": null,
   "id": "0ac81863",
   "metadata": {
    "executionInfo": {
     "elapsed": 123664,
     "status": "ok",
     "timestamp": 1723804628508,
     "user": {
      "displayName": "Mridul Chaudhary",
      "userId": "01592793057690041972"
     },
     "user_tz": -330
    },
    "id": "hr14y9V6wUYT",
    "outputId": "303efc12-d7ca-4ddb-a359-fc24cb6a0393",
    "papermill": {
     "duration": null,
     "end_time": null,
     "exception": null,
     "start_time": null,
     "status": "pending"
    },
    "tags": []
   },
   "outputs": [],
   "source": [
    "%%time\n",
    "test_param_and_plot(XGBRegressor, 'learning_rate', [0.05, 0.1, 0.25], **best_params)"
   ]
  },
  {
   "cell_type": "markdown",
   "id": "9e09a4ee",
   "metadata": {
    "id": "9LgIAFvRwUaY",
    "papermill": {
     "duration": null,
     "end_time": null,
     "exception": null,
     "start_time": null,
     "status": "pending"
    },
    "tags": []
   },
   "source": [
    "Seems like the best learning rate is 0.25."
   ]
  },
  {
   "cell_type": "code",
   "execution_count": null,
   "id": "3efa2d2b",
   "metadata": {
    "executionInfo": {
     "elapsed": 459,
     "status": "ok",
     "timestamp": 1723804699460,
     "user": {
      "displayName": "Mridul Chaudhary",
      "userId": "01592793057690041972"
     },
     "user_tz": -330
    },
    "id": "HFwSSbfywUdc",
    "papermill": {
     "duration": null,
     "end_time": null,
     "exception": null,
     "start_time": null,
     "status": "pending"
    },
    "tags": []
   },
   "outputs": [],
   "source": [
    "best_params['learning_rate'] = 0.25"
   ]
  },
  {
   "cell_type": "markdown",
   "id": "5feb4fb5",
   "metadata": {
    "id": "SLfTo7EXxEZ4",
    "papermill": {
     "duration": null,
     "end_time": null,
     "exception": null,
     "start_time": null,
     "status": "pending"
    },
    "tags": []
   },
   "source": [
    "### Other Parameters"
   ]
  },
  {
   "cell_type": "markdown",
   "id": "fd1da0a4",
   "metadata": {
    "id": "ftWB7l4BxHSN",
    "papermill": {
     "duration": null,
     "end_time": null,
     "exception": null,
     "start_time": null,
     "status": "pending"
    },
    "tags": []
   },
   "source": [
    "Similarly we can experiment with other parameters.\n",
    "\n",
    "Here's a set of parameters that works well:"
   ]
  },
  {
   "cell_type": "code",
   "execution_count": null,
   "id": "51524713",
   "metadata": {
    "executionInfo": {
     "elapsed": 521,
     "status": "ok",
     "timestamp": 1723804720306,
     "user": {
      "displayName": "Mridul Chaudhary",
      "userId": "01592793057690041972"
     },
     "user_tz": -330
    },
    "id": "YNFMiMn4xHUh",
    "papermill": {
     "duration": null,
     "end_time": null,
     "exception": null,
     "start_time": null,
     "status": "pending"
    },
    "tags": []
   },
   "outputs": [],
   "source": [
    "xgb_model_final = XGBRegressor(objective='reg:squarederror', n_jobs=-1, random_state=42,\n",
    "                               n_estimators=500, max_depth=5, learning_rate=0.1,\n",
    "                               subsample=0.8, colsample_bytree=0.8)"
   ]
  },
  {
   "cell_type": "code",
   "execution_count": null,
   "id": "68403911",
   "metadata": {
    "executionInfo": {
     "elapsed": 61844,
     "status": "ok",
     "timestamp": 1723804786749,
     "user": {
      "displayName": "Mridul Chaudhary",
      "userId": "01592793057690041972"
     },
     "user_tz": -330
    },
    "id": "Wg7A6s7nxHW8",
    "outputId": "06b74bfa-ed08-4011-ad34-7b7194288bc2",
    "papermill": {
     "duration": null,
     "end_time": null,
     "exception": null,
     "start_time": null,
     "status": "pending"
    },
    "tags": []
   },
   "outputs": [],
   "source": [
    "%%time\n",
    "xgb_model_final.fit(train_inputs, train_targets)"
   ]
  },
  {
   "cell_type": "code",
   "execution_count": null,
   "id": "43f05f17",
   "metadata": {
    "executionInfo": {
     "elapsed": 4932,
     "status": "ok",
     "timestamp": 1723804791677,
     "user": {
      "displayName": "Mridul Chaudhary",
      "userId": "01592793057690041972"
     },
     "user_tz": -330
    },
    "id": "bSlBmHnvxHZN",
    "outputId": "1f772931-aac0-445d-cf9a-cd872da4415f",
    "papermill": {
     "duration": null,
     "end_time": null,
     "exception": null,
     "start_time": null,
     "status": "pending"
    },
    "tags": []
   },
   "outputs": [],
   "source": [
    "evaluate(xgb_model_final)"
   ]
  },
  {
   "cell_type": "code",
   "execution_count": null,
   "id": "1661e914",
   "metadata": {
    "executionInfo": {
     "elapsed": 15,
     "status": "ok",
     "timestamp": 1723804791677,
     "user": {
      "displayName": "Mridul Chaudhary",
      "userId": "01592793057690041972"
     },
     "user_tz": -330
    },
    "id": "T6iVY-GOxMZ9",
    "outputId": "b63492a8-ad24-45b5-95b1-a0b5e83cbde5",
    "papermill": {
     "duration": null,
     "end_time": null,
     "exception": null,
     "start_time": null,
     "status": "pending"
    },
    "tags": []
   },
   "outputs": [],
   "source": [
    "predict_and_submit(xgb_model_final, 'xgb_tuned_submission.csv')"
   ]
  },
  {
   "cell_type": "code",
   "execution_count": null,
   "id": "df37b990",
   "metadata": {
    "id": "cQ4krqkMxNe9",
    "papermill": {
     "duration": null,
     "end_time": null,
     "exception": null,
     "start_time": null,
     "status": "pending"
    },
    "tags": []
   },
   "outputs": [],
   "source": []
  }
 ],
 "metadata": {
  "colab": {
   "authorship_tag": "ABX9TyMHrw6CORmFAGJyhtwJJSbi",
   "provenance": []
  },
  "kaggle": {
   "accelerator": "none",
   "dataSources": [
    {
     "databundleVersionId": 61318,
     "sourceId": 10170,
     "sourceType": "competition"
    }
   ],
   "dockerImageVersionId": 30746,
   "isGpuEnabled": false,
   "isInternetEnabled": true,
   "language": "python",
   "sourceType": "notebook"
  },
  "kernelspec": {
   "display_name": "Python 3",
   "name": "python3"
  },
  "language_info": {
   "codemirror_mode": {
    "name": "ipython",
    "version": 3
   },
   "file_extension": ".py",
   "mimetype": "text/x-python",
   "name": "python",
   "nbconvert_exporter": "python",
   "pygments_lexer": "ipython3",
   "version": "3.10.13"
  },
  "papermill": {
   "default_parameters": {},
   "duration": 22.647672,
   "end_time": "2024-08-24T18:23:38.899767",
   "environment_variables": {},
   "exception": true,
   "input_path": "__notebook__.ipynb",
   "output_path": "__notebook__.ipynb",
   "parameters": {},
   "start_time": "2024-08-24T18:23:16.252095",
   "version": "2.5.0"
  }
 },
 "nbformat": 4,
 "nbformat_minor": 5
}
